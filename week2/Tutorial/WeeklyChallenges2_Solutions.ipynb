{
 "cells": [
  {
   "cell_type": "markdown",
   "metadata": {},
   "source": [
    "# Challenges Week 2\n",
    "\n",
    "Now that you have some expereince with for loops and control flow in Python, it's time for you to combine and apply this week's knowledge. You will start working on these challenges in the tutorial and will be asked to complete them by the end of the week.\n",
    "\n",
    "In each challange, you are asked to provide the programing solution to it as well as a technical interpretation explaining the steps taken and the result.\n",
    "\n",
    "Some important notes for the challenges:\n",
    "\n",
    "* If you get an error message, try to troubleshoot it (using Google often helps). If all else fails, go to the next excercise (but make sure to hand it in).\n",
    "* We will make sure to provide feedback and improvement suggestions in the rubric. Make sure to read them; they will help you improve next week."
   ]
  },
  {
   "cell_type": "markdown",
   "metadata": {},
   "source": [
    "# Challenge 1\n",
    "\n",
    "* Using the lists fruit and colors, print out each possible combination of fruit and color. \n",
    "* Use conditional operators to construct a for loop that populates the list real_fruit with all real combinations of color and ripe fruit, e.g. yellow banana. \n",
    "* Write a for loop that separately prints each letter of each word in the list fruit. \n",
    "\n",
    "For each question, provide the necessary code and a short explanation of the choices you made."
   ]
  },
  {
   "cell_type": "code",
   "execution_count": 4,
   "metadata": {},
   "outputs": [],
   "source": [
    "fruit = ['banana', 'orange', 'apple', 'kiwi']\n",
    "colors = ['red', 'orange', 'yellow', 'green']\n",
    "real_fruit = []"
   ]
  },
  {
   "cell_type": "code",
   "execution_count": 5,
   "metadata": {},
   "outputs": [
    {
     "name": "stdout",
     "output_type": "stream",
     "text": [
      "red banana\n",
      "red orange\n",
      "red apple\n",
      "red kiwi\n",
      "orange banana\n",
      "orange orange\n",
      "orange apple\n",
      "orange kiwi\n",
      "yellow banana\n",
      "yellow orange\n",
      "yellow apple\n",
      "yellow kiwi\n",
      "green banana\n",
      "green orange\n",
      "green apple\n",
      "green kiwi\n"
     ]
    }
   ],
   "source": [
    "#Q1\n",
    "for c in colors:\n",
    "    for f in fruit:\n",
    "        print(c, f)"
   ]
  },
  {
   "cell_type": "code",
   "execution_count": null,
   "metadata": {},
   "outputs": [],
   "source": [
    "#Q2 \n",
    "for c in colors:\n",
    "    for f in fruit:\n",
    "        if c ==\"yellow\" and f==\"banana\":\n",
    "            real_fruit.append(c+\" \"+f)\n",
    "        if c ==\"red\" and f==\"apple\":\n",
    "            real_fruit.append(c+\" \"+f)\n",
    "        if c==\"orange\" and f==\"orange\":\n",
    "            real_fruit.append(c+\" \"+f)\n",
    "#etc..\n",
    "real_fruit"
   ]
  },
  {
   "cell_type": "code",
   "execution_count": null,
   "metadata": {},
   "outputs": [],
   "source": [
    "#Q3 \n",
    "for f in fruit:\n",
    "    for letter in f:\n",
    "        print(letter)"
   ]
  },
  {
   "cell_type": "markdown",
   "metadata": {},
   "source": [
    "# Challenge 2\n",
    "\n",
    "\n",
    "* Write a for loop that prints one statement for numbers smaller than 8 and that prints another statement for all numbers above. \n",
    "* Write a for loop that prints \"this is a small number\" for all numbers equal to and smaller than 3, that prints \"this is a medium number\" for all number between 4 and 7 and that prints \"this is a large number\" for all numbers above. \n",
    "* Use the modulo operator (%) to print \"This is an even number\" for even numbers in the numbers list and \"This is an odd number\" for odd numbers in the numbers list. \n",
    "\n",
    "For each question, provide the necessary code and a short explanation of the choices you made."
   ]
  },
  {
   "cell_type": "code",
   "execution_count": 9,
   "metadata": {},
   "outputs": [],
   "source": [
    "numbers = [0,1,2,3,4,5,6,7,8,9,10]"
   ]
  },
  {
   "cell_type": "code",
   "execution_count": null,
   "metadata": {},
   "outputs": [],
   "source": [
    "#Q1\n",
    "for n in numbers:\n",
    "    if n <8:\n",
    "        print(\"smaller than 8\")\n",
    "    else:\n",
    "        print(\"larger than 8\")"
   ]
  },
  {
   "cell_type": "code",
   "execution_count": null,
   "metadata": {},
   "outputs": [],
   "source": [
    "#Q2 \n",
    "for n in numbers:\n",
    "    if n <= 3:\n",
    "        print('this is a small number')\n",
    "    elif n >= 4 and n <= 7:\n",
    "        print('this is a medium number')\n",
    "    else:\n",
    "        print('this is a large number')"
   ]
  },
  {
   "cell_type": "code",
   "execution_count": null,
   "metadata": {},
   "outputs": [],
   "source": [
    "#Q3\n",
    "for n in numbers:\n",
    "    if n%2==0:\n",
    "        print(\"This is an even number\")\n",
    "    else:\n",
    "        print(\"This is an odd number\")"
   ]
  },
  {
   "cell_type": "markdown",
   "metadata": {},
   "source": [
    "# Challenge 3\n",
    "\n",
    "\n",
    "* Loop through the city dictionary below to print the city and the size of the population in each city, e.g. \"City X has a population of Y\". Remember that for-loops for dictionaries require the .items() method. \n",
    "\n",
    "* Create a new list called cities and use a for loop to append each city with a population smaller than 500000 citizens from city_data to this list. \n",
    "\n",
    "For each question, provide the necessary code and a short explanation of the choices you made."
   ]
  },
  {
   "cell_type": "code",
   "execution_count": 15,
   "metadata": {},
   "outputs": [],
   "source": [
    "city_data = {\"Amsterdam\": 821000, \"Rotterdam\": 650000, \"Utrecht\": 544000, \"Zwolle\": 123000, \"Leiden\": 121562}"
   ]
  },
  {
   "cell_type": "code",
   "execution_count": null,
   "metadata": {},
   "outputs": [],
   "source": [
    "#Q1\n",
    "for k,v in city_data.items():\n",
    "    print(\"City \", k, \" has a population of \", v)"
   ]
  },
  {
   "cell_type": "code",
   "execution_count": null,
   "metadata": {},
   "outputs": [],
   "source": [
    "#Q2\n",
    "cities = []\n",
    "for k,v in city_data.items():\n",
    "    if v < 500000:\n",
    "        cities.append(k)"
   ]
  },
  {
   "cell_type": "markdown",
   "metadata": {},
   "source": [
    "# Challenge 4 *(ungraded bonus)*\n",
    "Git excercise - Upload this notebook to your profile on Git Classroom according to the procedure shown in class. "
   ]
  },
  {
   "cell_type": "code",
   "execution_count": null,
   "metadata": {},
   "outputs": [],
   "source": []
  }
 ],
 "metadata": {
  "kernelspec": {
   "display_name": "Python 3 (ipykernel)",
   "language": "python",
   "name": "python3"
  },
  "language_info": {
   "codemirror_mode": {
    "name": "ipython",
    "version": 3
   },
   "file_extension": ".py",
   "mimetype": "text/x-python",
   "name": "python",
   "nbconvert_exporter": "python",
   "pygments_lexer": "ipython3",
   "version": "3.9.7"
  }
 },
 "nbformat": 4,
 "nbformat_minor": 4
}
