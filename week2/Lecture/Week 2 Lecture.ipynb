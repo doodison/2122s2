{
 "cells": [
  {
   "cell_type": "markdown",
   "metadata": {},
   "source": [
    "# Simple control structures - loops and conditions\n",
    "\n",
    "Welcome to the second week of the course. By the end of this week, you should acquire:\n",
    "\n",
    "Knowledge on:\n",
    "\n",
    "* Open Communication Science in Theory and Practice\n",
    "* The importance of Git in computational science\n",
    "* Python operators and loops\n",
    "* Control structures \n",
    "\n",
    "Skills on:\n",
    "* Using Github for this class and for your own research purposes\n",
    "* Writing and applying various loops\n",
    "* Using conditional operators "
   ]
  },
  {
   "cell_type": "markdown",
   "metadata": {},
   "source": [
    "# Python operators"
   ]
  },
  {
   "cell_type": "markdown",
   "metadata": {},
   "source": [
    "## Arithmetic"
   ]
  },
  {
   "cell_type": "code",
   "execution_count": 22,
   "metadata": {},
   "outputs": [
    {
     "data": {
      "text/plain": [
       "8"
      ]
     },
     "execution_count": 22,
     "metadata": {},
     "output_type": "execute_result"
    }
   ],
   "source": [
    "3 + 5"
   ]
  },
  {
   "cell_type": "markdown",
   "metadata": {},
   "source": [
    "## Comparison"
   ]
  },
  {
   "cell_type": "code",
   "execution_count": 23,
   "metadata": {},
   "outputs": [
    {
     "data": {
      "text/plain": [
       "False"
      ]
     },
     "execution_count": 23,
     "metadata": {},
     "output_type": "execute_result"
    }
   ],
   "source": [
    "5 == 10"
   ]
  },
  {
   "cell_type": "markdown",
   "metadata": {},
   "source": [
    "## Logical and membership"
   ]
  },
  {
   "cell_type": "code",
   "execution_count": 27,
   "metadata": {},
   "outputs": [
    {
     "name": "stdout",
     "output_type": "stream",
     "text": [
      "True\n",
      "False\n"
     ]
    }
   ],
   "source": [
    "my_list = [3,5,6]\n",
    "print(5 in my_list)\n",
    "print(7 in my_list)"
   ]
  },
  {
   "cell_type": "markdown",
   "metadata": {},
   "source": [
    "## Assignment operators"
   ]
  },
  {
   "cell_type": "code",
   "execution_count": 25,
   "metadata": {},
   "outputs": [
    {
     "name": "stdout",
     "output_type": "stream",
     "text": [
      "8\n"
     ]
    }
   ],
   "source": [
    "m = 3 \n",
    "m += 5\n",
    "print(m)"
   ]
  },
  {
   "cell_type": "markdown",
   "metadata": {},
   "source": [
    "# Loops"
   ]
  },
  {
   "cell_type": "code",
   "execution_count": 28,
   "metadata": {},
   "outputs": [
    {
     "name": "stdout",
     "output_type": "stream",
     "text": [
      "3\n",
      "5\n",
      "6\n"
     ]
    }
   ],
   "source": [
    "#A basic for loop with a list of numbers\n",
    "my_list = [3,5,6]\n",
    "for each_number in my_list:\n",
    "    print(each_number)"
   ]
  },
  {
   "cell_type": "code",
   "execution_count": 29,
   "metadata": {},
   "outputs": [
    {
     "name": "stdout",
     "output_type": "stream",
     "text": [
      "The student is called John\n",
      "The student is called Tyler\n",
      "The student is called Danny\n",
      "The student is called Matt\n"
     ]
    }
   ],
   "source": [
    "#A basic for loop with a list of strings\n",
    "names = [\"John\", \"Tyler\", \"Danny\", \"Matt\"]\n",
    "for name in names: \n",
    "    print(\"The student is called\", name)"
   ]
  },
  {
   "cell_type": "code",
   "execution_count": 52,
   "metadata": {},
   "outputs": [
    {
     "name": "stdout",
     "output_type": "stream",
     "text": [
      "Viola de Young\n",
      "Viola Rogers\n",
      "Viola Roggia\n",
      "--------------\n",
      "Matt de Young\n",
      "Matt Rogers\n",
      "Matt Roggia\n",
      "--------------\n",
      "Danny de Young\n",
      "Danny Rogers\n",
      "Danny Roggia\n",
      "--------------\n"
     ]
    }
   ],
   "source": [
    "#Nested for loops\n",
    "surnames = ['de Young', 'Rogers', 'Roggia']\n",
    "names = ['Viola', 'Matt', 'Danny']\n",
    "\n",
    "for name in names:\n",
    "    for surname in surnames:\n",
    "        print(name, surname)\n",
    "    print('--------------')"
   ]
  },
  {
   "cell_type": "code",
   "execution_count": 14,
   "metadata": {},
   "outputs": [
    {
     "name": "stdout",
     "output_type": "stream",
     "text": [
      "You can reach Marieke at m.vanhoof@uva.nl\n",
      "You can reach Joanna at j.strycharz@uva.nl\n",
      "You can reach Ognjan at o.denkovski@uva.nl\n"
     ]
    }
   ],
   "source": [
    "#For loops for dictionaries \n",
    "emails = {\"Marieke\":\"m.vanhoof@uva.nl\", \"Joanna\":\"j.strycharz@uva.nl\", \"Ognjan\":\"o.denkovski@uva.nl\",}\n",
    "\n",
    "#Notice that you must specify that the for loop applies to both keys and values\n",
    "#Notice that you must use the .items() method\n",
    "for key,value in emails.items():\n",
    "    print(\"You can reach\", key, \"at\", value)"
   ]
  },
  {
   "cell_type": "code",
   "execution_count": 15,
   "metadata": {},
   "outputs": [
    {
     "name": "stdout",
     "output_type": "stream",
     "text": [
      "You can reach Marieke at m.vanhoof@uva.nl\n",
      "You can reach Joanna at j.strycharz@uva.nl\n",
      "You can reach Ognjan at o.denkovski@uva.nl\n"
     ]
    }
   ],
   "source": [
    "#As is often the case, the key and value are arbitrary names for variables\n",
    "for important_thing_1,another_arbitrary_name in emails.items():\n",
    "    print(\"You can reach\", important_thing_1, \"at\", another_arbitrary_name)"
   ]
  },
  {
   "cell_type": "code",
   "execution_count": 16,
   "metadata": {},
   "outputs": [
    {
     "name": "stdout",
     "output_type": "stream",
     "text": [
      "Contact us here if you have questions about the course m.vanhoof@uva.nl\n",
      "Contact us here if you have questions about the course j.strycharz@uva.nl\n",
      "Contact us here if you have questions about the course o.denkovski@uva.nl\n"
     ]
    }
   ],
   "source": [
    "#You can also iterate only over the keys or only over the values \n",
    "#However, you must specify both keys and values in the first line for this to work as expected\n",
    "for key,value in emails.items():\n",
    "    print(\"Contact us here if you have questions about the course\", value)"
   ]
  },
  {
   "cell_type": "code",
   "execution_count": 7,
   "metadata": {},
   "outputs": [
    {
     "name": "stdout",
     "output_type": "stream",
     "text": [
      "This is tom age 10\n",
      "This is nick age 15\n",
      "This is juli age 14\n"
     ]
    }
   ],
   "source": [
    "#For loops for dataframes - much more on this in two weeks!\n",
    "import pandas as pd\n",
    "data = [['tom', 10], ['nick', 15], ['juli', 14]]\n",
    "df = pd.DataFrame(data, columns = ['Name', 'Age'])\n",
    "\n",
    "#S\n",
    "for index,row in df.iterrows():\n",
    "    print(\"This is\", row['Name'], \"age\", row['Age'])"
   ]
  },
  {
   "cell_type": "markdown",
   "metadata": {},
   "source": [
    "# Conditional statements (in loops)"
   ]
  },
  {
   "cell_type": "code",
   "execution_count": 31,
   "metadata": {},
   "outputs": [
    {
     "name": "stdout",
     "output_type": "stream",
     "text": [
      "no\n"
     ]
    }
   ],
   "source": [
    "x = 10 \n",
    "if x == 3:\n",
    "    print(\"yes\")\n",
    "else:\n",
    "    print(\"no\")"
   ]
  },
  {
   "cell_type": "code",
   "execution_count": 33,
   "metadata": {},
   "outputs": [
    {
     "name": "stdout",
     "output_type": "stream",
     "text": [
      "3\n",
      "5\n",
      "nope!\n",
      "4\n",
      "6\n",
      "7\n"
     ]
    }
   ],
   "source": [
    "my_list = [3,5,6]\n",
    "for each_number in my_list:\n",
    "    if each_number <= 5: \n",
    "        print(each_number)\n",
    "    else:\n",
    "        print(\"nope!\")\n",
    "for l in my_list:\n",
    "    print(l+1)"
   ]
  },
  {
   "cell_type": "code",
   "execution_count": 35,
   "metadata": {},
   "outputs": [
    {
     "name": "stdout",
     "output_type": "stream",
     "text": [
      "3\n",
      "5\n",
      "this is a 9, so I'll print\n",
      "nope!\n"
     ]
    }
   ],
   "source": [
    "my_list = [3,5,9,6]\n",
    "for each_number in my_list:\n",
    "    if each_number <= 5: \n",
    "        print(each_number)\n",
    "    elif each_number == 9:\n",
    "        print(\"this is a 9, so I'll print\")\n",
    "    else:\n",
    "        print(\"nope!\")"
   ]
  },
  {
   "cell_type": "code",
   "execution_count": 69,
   "metadata": {},
   "outputs": [
    {
     "name": "stdout",
     "output_type": "stream",
     "text": [
      "3 doesn't meet the above condition\n",
      "this number is greater or equal to 5 and smaller than 9\n",
      "9 doesn't meet the above condition\n",
      "this number is greater or equal to 5 and smaller than 9\n"
     ]
    }
   ],
   "source": [
    "my_list = [3,5,9,6]\n",
    "for each_number in my_list:\n",
    "    if each_number >= 5 and each_number <9:\n",
    "        print(\"this number is greater or equal to 5 and smaller than 9\")\n",
    "    else:\n",
    "        print(each_number, \"doesn't meet the above condition\")"
   ]
  },
  {
   "cell_type": "code",
   "execution_count": null,
   "metadata": {},
   "outputs": [],
   "source": [
    "#While loop\n",
    "counter = 0\n",
    "while counter <= 4:\n",
    "    print(\"Inside loop\")\n",
    "    counter += 1\n",
    "else:\n",
    "    print(\"Inside else\")\n",
    "print(counter)"
   ]
  },
  {
   "cell_type": "code",
   "execution_count": 44,
   "metadata": {},
   "outputs": [],
   "source": [
    "#Bonus - list comprehensions\n",
    "l = [number+5 for number in my_list]"
   ]
  }
 ],
 "metadata": {
  "kernelspec": {
   "display_name": "Python 3",
   "language": "python",
   "name": "python3"
  },
  "language_info": {
   "codemirror_mode": {
    "name": "ipython",
    "version": 3
   },
   "file_extension": ".py",
   "mimetype": "text/x-python",
   "name": "python",
   "nbconvert_exporter": "python",
   "pygments_lexer": "ipython3",
   "version": "3.7.9"
  }
 },
 "nbformat": 4,
 "nbformat_minor": 4
}
