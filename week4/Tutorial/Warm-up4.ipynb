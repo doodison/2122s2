{
 "cells": [
  {
   "cell_type": "markdown",
   "metadata": {},
   "source": [
    "# Warm-up exercises week 4\n",
    "\n",
    "\n",
    "Now that you have some expereince with for loops and control flow in Python, it's time for you to combine and apply this knowledge. To prepare for the tutorial, complete the following two warm-up exercises. \n",
    "\n",
    "Some important notes for the exercises:\n",
    "\n",
    "* These exercises are a warming up meant to help you get ready for class. Make sure to give them a try on all of them. If you get an error message, try to troubleshoot it (using Google often helps). If all else fails, go to the next exercise (but make sure to hand it in).\n",
    "* While we of course like when you get all the answers right, the important thing is to practice and apply the knowledge. So we will still accept solutions that may not be complete, as long as we see enough effort for each excercise.\n",
    "* Delivering the warm-up exercises on time is critical, as it helps also prepare for the tutorial session. \n",
    "* As these excercises are meant to help you participate in the tutorial and us to make sure you can get as much as possible from the tutorials, we do not expect perfect answers. However, this is important to show the effort you have put in the exercises and what obstacles you faced."
   ]
  },
  {
   "cell_type": "markdown",
   "metadata": {},
   "source": [
    "# Exercise 1\n",
    "\n",
    "\n",
    "* Load the iris dataset from this link (https://raw.githubusercontent.com/mwaskom/seaborn-data/master/iris.csv) using pandas.\n",
    "\n",
    "* Check if the iris dataset contains missing values, check all column types and print all column names. If the dataset contains missing values, drop those rows before proceeding. \n",
    "\n",
    "* Use groupby to calculate the average petal_length and petal_width for each species. \n",
    "\n"
   ]
  },
  {
   "cell_type": "code",
   "execution_count": 3,
   "metadata": {},
   "outputs": [],
   "source": []
  },
  {
   "cell_type": "markdown",
   "metadata": {},
   "source": [
    "# Exercise 2\n",
    "\n",
    "\n",
    "* Create a smaller dataset, called setosa, consisting only of observations from the setosa species. \n",
    "\n",
    "* Output full descriptive statistics for the sepal_length and sepal_width in the newly created setosa dataset.\n",
    "\n",
    "* Drop all rows with a sepal_length lower than the dataset average.\n"
   ]
  },
  {
   "cell_type": "code",
   "execution_count": null,
   "metadata": {},
   "outputs": [],
   "source": []
  }
 ],
 "metadata": {
  "kernelspec": {
   "display_name": "Python 3",
   "language": "python",
   "name": "python3"
  },
  "language_info": {
   "codemirror_mode": {
    "name": "ipython",
    "version": 3
   },
   "file_extension": ".py",
   "mimetype": "text/x-python",
   "name": "python",
   "nbconvert_exporter": "python",
   "pygments_lexer": "ipython3",
   "version": "3.7.9"
  }
 },
 "nbformat": 4,
 "nbformat_minor": 4
}
