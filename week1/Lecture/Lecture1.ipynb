{
 "cells": [
  {
   "cell_type": "markdown",
   "id": "understood-radio",
   "metadata": {},
   "source": [
    "# Getting started with Python in Jupyter\n",
    "\n",
    "Welcome to the first week of the course. By the end of this week, you should acquire:\n",
    "\n",
    "**Knowledge on:**\n",
    "* Programing language: definition\n",
    "* Differences between programming langauges and software\n",
    "* Computational Communication Science as a subdiscipline\n",
    "* Data types and data structures\n",
    "\n",
    "**Skills on:**\n",
    "* Using Jupyter Lab\n",
    "* Writing in Markdown\n",
    "* Choosing the right data type\n",
    "* Transforming unstructured data in structured "
   ]
  },
  {
   "cell_type": "markdown",
   "id": "precious-heritage",
   "metadata": {},
   "source": [
    "## Using Jupyter Notebook and Jupyter Lab"
   ]
  },
  {
   "cell_type": "code",
   "execution_count": null,
   "id": "appreciated-publication",
   "metadata": {},
   "outputs": [],
   "source": [
    "#headings"
   ]
  },
  {
   "cell_type": "markdown",
   "id": "sustainable-proposal",
   "metadata": {},
   "source": [
    "# This is a first level heading"
   ]
  },
  {
   "cell_type": "code",
   "execution_count": null,
   "id": "sophisticated-raleigh",
   "metadata": {},
   "outputs": [],
   "source": [
    "#special characters"
   ]
  },
  {
   "cell_type": "markdown",
   "id": "encouraging-bottle",
   "metadata": {},
   "source": [
    "**This is bold**"
   ]
  },
  {
   "cell_type": "markdown",
   "id": "alpha-singing",
   "metadata": {},
   "source": [
    "## Data types\n",
    "\n",
    "### Floats and Integers\n",
    "\n",
    "Starting from the basics, we have integers or floats. They are... numbers. The difference is that integers are whole numbers, and floats allow for decimals."
   ]
  },
  {
   "cell_type": "code",
   "execution_count": 44,
   "id": "cardiac-roulette",
   "metadata": {},
   "outputs": [
    {
     "data": {
      "text/plain": [
       "5"
      ]
     },
     "execution_count": 44,
     "metadata": {},
     "output_type": "execute_result"
    }
   ],
   "source": [
    "#examples\n",
    "#integer\n",
    "5"
   ]
  },
  {
   "cell_type": "code",
   "execution_count": 45,
   "id": "average-hours",
   "metadata": {},
   "outputs": [
    {
     "data": {
      "text/plain": [
       "5.5"
      ]
     },
     "execution_count": 45,
     "metadata": {},
     "output_type": "execute_result"
    }
   ],
   "source": [
    "#float\n",
    "5.5"
   ]
  },
  {
   "cell_type": "code",
   "execution_count": 46,
   "id": "antique-victoria",
   "metadata": {},
   "outputs": [
    {
     "data": {
      "text/plain": [
       "10.5"
      ]
     },
     "execution_count": 46,
     "metadata": {},
     "output_type": "execute_result"
    }
   ],
   "source": [
    "#operations\n",
    "5+5.5"
   ]
  },
  {
   "cell_type": "markdown",
   "id": "human-headline",
   "metadata": {},
   "source": [
    "### Strings\n",
    "\n",
    "Strings are pieces of text and are **always** surrounded by either a single quote (') or a double-quote(\")"
   ]
  },
  {
   "cell_type": "code",
   "execution_count": 47,
   "id": "global-display",
   "metadata": {},
   "outputs": [
    {
     "data": {
      "text/plain": [
       "'This is a string'"
      ]
     },
     "execution_count": 47,
     "metadata": {},
     "output_type": "execute_result"
    }
   ],
   "source": [
    "#examples\n",
    "\"This is a string\""
   ]
  },
  {
   "cell_type": "code",
   "execution_count": 48,
   "id": "empirical-overhead",
   "metadata": {},
   "outputs": [
    {
     "data": {
      "text/plain": [
       "'Add a sentence to a sentence'"
      ]
     },
     "execution_count": 48,
     "metadata": {},
     "output_type": "execute_result"
    }
   ],
   "source": [
    "#operations\n",
    "\"Add a sentence \" + \"to a sentence\""
   ]
  },
  {
   "cell_type": "markdown",
   "id": "unique-organizer",
   "metadata": {},
   "source": [
    "### Booleans: True, False\n",
    "\n",
    "This datatype can take one of two values: True and False\n",
    "\n",
    "It is important to know them for two reasons:\n",
    "1. They will be used in later in conditions (we'll get into that later)\n",
    "2. You cannot use True, False as a variable name (we'll get into that later as well)"
   ]
  },
  {
   "cell_type": "code",
   "execution_count": 49,
   "id": "efficient-nightlife",
   "metadata": {},
   "outputs": [
    {
     "data": {
      "text/plain": [
       "True"
      ]
     },
     "execution_count": 49,
     "metadata": {},
     "output_type": "execute_result"
    }
   ],
   "source": [
    "#examples\n",
    "True"
   ]
  },
  {
   "cell_type": "markdown",
   "id": "substantial-sullivan",
   "metadata": {},
   "source": [
    "## Data structures\n",
    "\n",
    "### Objects\n",
    "In Python, an object can be seen as a \"space\" in memory that can hold a specific value."
   ]
  },
  {
   "cell_type": "code",
   "execution_count": 72,
   "id": "bronze-custody",
   "metadata": {},
   "outputs": [],
   "source": [
    "#examples\n",
    "a=5\n",
    "b=7"
   ]
  },
  {
   "cell_type": "code",
   "execution_count": 73,
   "id": "protecting-blake",
   "metadata": {},
   "outputs": [
    {
     "data": {
      "text/plain": [
       "int"
      ]
     },
     "execution_count": 73,
     "metadata": {},
     "output_type": "execute_result"
    }
   ],
   "source": [
    "type(a)"
   ]
  },
  {
   "cell_type": "code",
   "execution_count": 74,
   "id": "congressional-makeup",
   "metadata": {},
   "outputs": [
    {
     "data": {
      "text/plain": [
       "int"
      ]
     },
     "execution_count": 74,
     "metadata": {},
     "output_type": "execute_result"
    }
   ],
   "source": [
    "type(b)"
   ]
  },
  {
   "cell_type": "code",
   "execution_count": null,
   "id": "satellite-quest",
   "metadata": {},
   "outputs": [],
   "source": [
    "#adding objects (ints, strings)"
   ]
  },
  {
   "cell_type": "code",
   "execution_count": 51,
   "id": "optimum-coffee",
   "metadata": {},
   "outputs": [
    {
     "data": {
      "text/plain": [
       "12"
      ]
     },
     "execution_count": 51,
     "metadata": {},
     "output_type": "execute_result"
    }
   ],
   "source": [
    "a+b"
   ]
  },
  {
   "cell_type": "code",
   "execution_count": null,
   "id": "neither-webmaster",
   "metadata": {},
   "outputs": [],
   "source": [
    "#changing objects"
   ]
  },
  {
   "cell_type": "code",
   "execution_count": 52,
   "id": "herbal-pension",
   "metadata": {},
   "outputs": [],
   "source": [
    "a=7"
   ]
  },
  {
   "cell_type": "code",
   "execution_count": 53,
   "id": "identical-movement",
   "metadata": {},
   "outputs": [
    {
     "data": {
      "text/plain": [
       "14"
      ]
     },
     "execution_count": 53,
     "metadata": {},
     "output_type": "execute_result"
    }
   ],
   "source": [
    "a+b"
   ]
  },
  {
   "cell_type": "markdown",
   "id": "binary-speed",
   "metadata": {},
   "source": [
    "## Lists\n",
    "\n",
    "Another interesting concept in Python is the ability to create lists. Lists are what their name says... a list of items."
   ]
  },
  {
   "cell_type": "code",
   "execution_count": 57,
   "id": "recorded-million",
   "metadata": {},
   "outputs": [],
   "source": [
    "#list of strings\n",
    "myitems = ['First item', 'Second item', 'Third item', 'Fourth item', 'Fifth item']"
   ]
  },
  {
   "cell_type": "code",
   "execution_count": 58,
   "id": "monetary-alberta",
   "metadata": {},
   "outputs": [
    {
     "data": {
      "text/plain": [
       "'First item'"
      ]
     },
     "execution_count": 58,
     "metadata": {},
     "output_type": "execute_result"
    }
   ],
   "source": [
    "#access 0th element\n",
    "myitems[0]"
   ]
  },
  {
   "cell_type": "code",
   "execution_count": 61,
   "id": "precious-ghana",
   "metadata": {},
   "outputs": [
    {
     "data": {
      "text/plain": [
       "'Fifth item'"
      ]
     },
     "execution_count": 61,
     "metadata": {},
     "output_type": "execute_result"
    }
   ],
   "source": [
    "#access 4th element\n",
    "myitems[4]"
   ]
  },
  {
   "cell_type": "code",
   "execution_count": 62,
   "id": "described-binary",
   "metadata": {},
   "outputs": [],
   "source": [
    "#appned 7 (meaning add 7 to list)\n",
    "myitems.append(7)"
   ]
  },
  {
   "cell_type": "code",
   "execution_count": 63,
   "id": "express-physiology",
   "metadata": {},
   "outputs": [
    {
     "data": {
      "text/plain": [
       "['First item', 'Second item', 'Third item', 'Fourth item', 'Fifth item', 7]"
      ]
     },
     "execution_count": 63,
     "metadata": {},
     "output_type": "execute_result"
    }
   ],
   "source": [
    "myitems"
   ]
  },
  {
   "cell_type": "code",
   "execution_count": 24,
   "id": "beautiful-abuse",
   "metadata": {},
   "outputs": [
    {
     "data": {
      "text/plain": [
       "[[1987, 82], [7643, 35], [7633, 67]]"
      ]
     },
     "execution_count": 24,
     "metadata": {},
     "output_type": "execute_result"
    }
   ],
   "source": [
    "#list of lists - each element of the list is a list\n",
    "listoflists = [[1987,82], [7643,35], [7633,67]]"
   ]
  },
  {
   "cell_type": "code",
   "execution_count": 64,
   "id": "special-isolation",
   "metadata": {},
   "outputs": [],
   "source": [
    "#Insert \"Zero item\" at position 0\n",
    "myitems.insert(0,\"Zero item\")"
   ]
  },
  {
   "cell_type": "code",
   "execution_count": 65,
   "id": "continuous-mileage",
   "metadata": {},
   "outputs": [
    {
     "data": {
      "text/plain": [
       "['Zero item',\n",
       " 'First item',\n",
       " 'Second item',\n",
       " 'Third item',\n",
       " 'Fourth item',\n",
       " 'Fifth item',\n",
       " 7]"
      ]
     },
     "execution_count": 65,
     "metadata": {},
     "output_type": "execute_result"
    }
   ],
   "source": [
    "myitems"
   ]
  },
  {
   "cell_type": "code",
   "execution_count": 67,
   "id": "overhead-shield",
   "metadata": {},
   "outputs": [
    {
     "data": {
      "text/plain": [
       "'Zero item'"
      ]
     },
     "execution_count": 67,
     "metadata": {},
     "output_type": "execute_result"
    }
   ],
   "source": [
    "#Remove element at position 0\n",
    "myitems.pop(0)"
   ]
  },
  {
   "cell_type": "code",
   "execution_count": 68,
   "id": "southeast-gregory",
   "metadata": {},
   "outputs": [
    {
     "data": {
      "text/plain": [
       "['First item', 'Second item', 'Third item', 'Fourth item', 'Fifth item', 7]"
      ]
     },
     "execution_count": 68,
     "metadata": {},
     "output_type": "execute_result"
    }
   ],
   "source": [
    "myitems"
   ]
  },
  {
   "cell_type": "code",
   "execution_count": 32,
   "id": "steady-lover",
   "metadata": {},
   "outputs": [],
   "source": [
    "#Operations on a list if lists\n",
    "grades = [6,7,5,6,8,7,6,8,6]"
   ]
  },
  {
   "cell_type": "code",
   "execution_count": 35,
   "id": "introductory-holocaust",
   "metadata": {},
   "outputs": [
    {
     "data": {
      "text/plain": [
       "6.555555555555555"
      ]
     },
     "execution_count": 35,
     "metadata": {},
     "output_type": "execute_result"
    }
   ],
   "source": [
    "#What is average grade?\n",
    "sum(grades)/len(grades)"
   ]
  },
  {
   "cell_type": "markdown",
   "id": "recent-spain",
   "metadata": {},
   "source": [
    "## Dictionaries\n",
    "\n",
    "A very handy concept in Python is the option to create dictionaries. As you have noticed with lists and tuples, you can only access items by their location - so you need to know if they are the first, second, third element in the list to be able to get their value.\n",
    "\n",
    "With dictionaries, we can store information with keys. So instead of accessing something by their location (or position), we find it by its key."
   ]
  },
  {
   "cell_type": "code",
   "execution_count": 69,
   "id": "electric-honey",
   "metadata": {},
   "outputs": [],
   "source": [
    "#examples\n",
    "world_capitals = {\n",
    "    'Netherlands': 'Amsterdam',\n",
    "    'Germany' : 'Berlin',\n",
    "    'Italy' : 'Rome',\n",
    "    'France' : 'Paris',\n",
    "    'UK' : 'London',\n",
    "    'US': 'Washington',\n",
    "    'China': 'Beijing'\n",
    "}"
   ]
  },
  {
   "cell_type": "code",
   "execution_count": 71,
   "id": "resistant-gasoline",
   "metadata": {},
   "outputs": [
    {
     "data": {
      "text/plain": [
       "dict_keys(['Netherlands', 'Germany', 'Italy', 'France', 'UK', 'US', 'China'])"
      ]
     },
     "execution_count": 71,
     "metadata": {},
     "output_type": "execute_result"
    }
   ],
   "source": [
    "#print keys\n",
    "world_capitals.keys()"
   ]
  },
  {
   "cell_type": "code",
   "execution_count": 38,
   "id": "bottom-palestinian",
   "metadata": {},
   "outputs": [
    {
     "data": {
      "text/plain": [
       "dict_values(['Amsterdam', 'Berlin', 'Rome', 'Paris', 'London', 'Washington', 'Beijing'])"
      ]
     },
     "execution_count": 38,
     "metadata": {},
     "output_type": "execute_result"
    }
   ],
   "source": [
    "#print values\n",
    "world_capitals.values()"
   ]
  },
  {
   "cell_type": "code",
   "execution_count": null,
   "id": "exposed-reserve",
   "metadata": {},
   "outputs": [],
   "source": [
    "#extending dictionary"
   ]
  },
  {
   "cell_type": "code",
   "execution_count": 39,
   "id": "registered-knife",
   "metadata": {},
   "outputs": [],
   "source": [
    "nvisits = {'Jonny': 3,\n",
    "         'Maarten': 5,\n",
    "         'Rob': 3,\n",
    "         \"Marthe\": 7,\n",
    "         \"Fabio\": 8}"
   ]
  },
  {
   "cell_type": "code",
   "execution_count": 41,
   "id": "optional-spiritual",
   "metadata": {},
   "outputs": [],
   "source": [
    "#Add key \"John\" and assiciated with it value 5 to the dictiornay nvisits\n",
    "nvisits['John'] = 5"
   ]
  },
  {
   "cell_type": "code",
   "execution_count": 42,
   "id": "dominant-examination",
   "metadata": {},
   "outputs": [
    {
     "data": {
      "text/plain": [
       "{'Jonny': 3, 'Maarten': 5, 'Rob': 3, 'Marthe': 7, 'Fabio': 8, 'John': 5}"
      ]
     },
     "execution_count": 42,
     "metadata": {},
     "output_type": "execute_result"
    }
   ],
   "source": [
    "nvisits"
   ]
  },
  {
   "cell_type": "code",
   "execution_count": 43,
   "id": "hired-playlist",
   "metadata": {},
   "outputs": [
    {
     "ename": "KeyError",
     "evalue": "'Anne'",
     "output_type": "error",
     "traceback": [
      "\u001b[0;31m---------------------------------------------------------------------------\u001b[0m",
      "\u001b[0;31mKeyError\u001b[0m                                  Traceback (most recent call last)",
      "\u001b[0;32m<ipython-input-43-3b8e94b8b2f5>\u001b[0m in \u001b[0;36m<module>\u001b[0;34m\u001b[0m\n\u001b[0;32m----> 1\u001b[0;31m \u001b[0mnvisits\u001b[0m\u001b[0;34m[\u001b[0m\u001b[0;34m'Anne'\u001b[0m\u001b[0;34m]\u001b[0m\u001b[0;34m\u001b[0m\u001b[0;34m\u001b[0m\u001b[0m\n\u001b[0m",
      "\u001b[0;31mKeyError\u001b[0m: 'Anne'"
     ]
    }
   ],
   "source": [
    "#Erorr when calling non-existing key\n",
    "nvisits['Anne']"
   ]
  },
  {
   "cell_type": "code",
   "execution_count": null,
   "id": "closed-necessity",
   "metadata": {},
   "outputs": [],
   "source": []
  }
 ],
 "metadata": {
  "kernelspec": {
   "display_name": "Python 3",
   "language": "python",
   "name": "python3"
  },
  "language_info": {
   "codemirror_mode": {
    "name": "ipython",
    "version": 3
   },
   "file_extension": ".py",
   "mimetype": "text/x-python",
   "name": "python",
   "nbconvert_exporter": "python",
   "pygments_lexer": "ipython3",
   "version": "3.9.1"
  }
 },
 "nbformat": 4,
 "nbformat_minor": 5
}
