{
 "cells": [
  {
   "cell_type": "markdown",
   "id": "fatal-citizen",
   "metadata": {},
   "source": [
    "# Getting started with Python in Jupyter\n",
    "\n",
    "Welcome to the first week of the course. By the end of this week, you should acquire:\n",
    "\n",
    "**Knowledge on:**\n",
    "* Programing language: definition\n",
    "* Differences between programming langauges and software\n",
    "* Computational Communication Science as a subdiscipline\n",
    "* Data types and data structures\n",
    "\n",
    "**Skills on:**\n",
    "* Using Jupyter Lab\n",
    "* Writing in Markdown\n",
    "* Choosing the right data type\n",
    "* Transforming unstructured data in structured "
   ]
  },
  {
   "cell_type": "markdown",
   "id": "painted-morgan",
   "metadata": {},
   "source": [
    "## Using Jupyter Notebook and Jupyter Labs"
   ]
  },
  {
   "cell_type": "code",
   "execution_count": null,
   "id": "polar-edmonton",
   "metadata": {},
   "outputs": [],
   "source": [
    "#headings"
   ]
  },
  {
   "cell_type": "code",
   "execution_count": 1,
   "id": "covered-imperial",
   "metadata": {},
   "outputs": [],
   "source": [
    "#lists"
   ]
  },
  {
   "cell_type": "code",
   "execution_count": 2,
   "id": "discrete-return",
   "metadata": {},
   "outputs": [],
   "source": [
    "#special characters"
   ]
  },
  {
   "cell_type": "markdown",
   "id": "transsexual-shelf",
   "metadata": {},
   "source": [
    "## Data types\n",
    "\n",
    "### Floats and Integers\n",
    "\n",
    "Starting from the basics, we have integers or floats. They are... numbers. The difference is that integers are whole numbers, and floats allow for decimals. In the example below, we have an integer."
   ]
  },
  {
   "cell_type": "code",
   "execution_count": null,
   "id": "temporal-accommodation",
   "metadata": {},
   "outputs": [],
   "source": [
    "#examples"
   ]
  },
  {
   "cell_type": "code",
   "execution_count": null,
   "id": "coastal-integrity",
   "metadata": {},
   "outputs": [],
   "source": [
    "#operations"
   ]
  },
  {
   "cell_type": "markdown",
   "id": "deluxe-wound",
   "metadata": {},
   "source": [
    "### Strings\n",
    "\n",
    "Strings are pieces of text and are **always** surrounded by either a single quote (') or a double-quote(\")"
   ]
  },
  {
   "cell_type": "code",
   "execution_count": 10,
   "id": "according-communist",
   "metadata": {},
   "outputs": [],
   "source": [
    "#examples"
   ]
  },
  {
   "cell_type": "code",
   "execution_count": 17,
   "id": "artificial-purple",
   "metadata": {},
   "outputs": [],
   "source": [
    "#operations"
   ]
  },
  {
   "cell_type": "markdown",
   "id": "square-wound",
   "metadata": {},
   "source": [
    "### Booleans: True, False\n",
    "\n",
    "This datatype can take one of two values: True and False\n",
    "\n",
    "It is important to know them for two reasons:\n",
    "1. They will be used in later in conditions (we'll get into that later)\n",
    "2. You cannot use True, False as a variable name (we'll get into that later as well)"
   ]
  },
  {
   "cell_type": "code",
   "execution_count": 16,
   "id": "manufactured-suspect",
   "metadata": {},
   "outputs": [],
   "source": [
    "#examples"
   ]
  },
  {
   "cell_type": "markdown",
   "id": "innocent-snapshot",
   "metadata": {},
   "source": [
    "## Data structures\n",
    "\n",
    "### Objects\n",
    "In Python, an object can be seen as a \"space\" in memory that can hold a specific value."
   ]
  },
  {
   "cell_type": "code",
   "execution_count": null,
   "id": "healthy-bridge",
   "metadata": {},
   "outputs": [],
   "source": [
    "#examples"
   ]
  },
  {
   "cell_type": "code",
   "execution_count": 20,
   "id": "secure-cocktail",
   "metadata": {},
   "outputs": [],
   "source": [
    "#adding objects (ints, strings)"
   ]
  },
  {
   "cell_type": "code",
   "execution_count": 21,
   "id": "about-heater",
   "metadata": {},
   "outputs": [],
   "source": [
    "#changing objects"
   ]
  },
  {
   "cell_type": "markdown",
   "id": "appointed-librarian",
   "metadata": {},
   "source": [
    "## Lists\n",
    "\n",
    "Another interesting concept in Python is the ability to create lists. Lists are what their name says... a list of items."
   ]
  },
  {
   "cell_type": "code",
   "execution_count": 29,
   "id": "civilian-timothy",
   "metadata": {},
   "outputs": [],
   "source": [
    "#examples + accessing items\n",
    "myitems = ['First item', 'Second item', 'Third item', 'Fourth item', 'Fifth item']"
   ]
  },
  {
   "cell_type": "code",
   "execution_count": 27,
   "id": "pleased-ancient",
   "metadata": {},
   "outputs": [],
   "source": [
    "#different types"
   ]
  },
  {
   "cell_type": "code",
   "execution_count": null,
   "id": "characteristic-project",
   "metadata": {},
   "outputs": [],
   "source": [
    "#appending lists"
   ]
  },
  {
   "cell_type": "code",
   "execution_count": null,
   "id": "primary-attribute",
   "metadata": {},
   "outputs": [],
   "source": [
    "#inserting"
   ]
  },
  {
   "cell_type": "code",
   "execution_count": null,
   "id": "cleared-kidney",
   "metadata": {},
   "outputs": [],
   "source": [
    "#poping"
   ]
  },
  {
   "cell_type": "code",
   "execution_count": 33,
   "id": "spread-switch",
   "metadata": {},
   "outputs": [],
   "source": [
    "#list in a list"
   ]
  },
  {
   "cell_type": "code",
   "execution_count": 36,
   "id": "overall-guard",
   "metadata": {},
   "outputs": [],
   "source": [
    "grades = [6,7,5,6,8,7,6,8,6]"
   ]
  },
  {
   "cell_type": "markdown",
   "id": "numerous-muscle",
   "metadata": {},
   "source": [
    "## Dictionaries\n",
    "\n",
    "A very handy concept in Python is the option to create dictionaries. As you have noticed with lists and tuples, you can only access items by their location - so you need to know if they are the first, second, third element in the list to be able to get their value.\n",
    "\n",
    "With dictionaries, we can store information with keys. So instead of accessing something by their location (or position), we find it by its key."
   ]
  },
  {
   "cell_type": "code",
   "execution_count": 35,
   "id": "primary-employer",
   "metadata": {},
   "outputs": [],
   "source": [
    "#examples\n",
    "world_capitals = {\n",
    "    'Netherlands': 'Amsterdam',\n",
    "    'Germany' : 'Berlin',\n",
    "    'Italy' : 'Rome',\n",
    "    'France' : 'Paris',\n",
    "    'UK' : 'London',\n",
    "    'US': 'Washington',\n",
    "    'China': 'Beijing'\n",
    "}"
   ]
  },
  {
   "cell_type": "code",
   "execution_count": null,
   "id": "ongoing-owner",
   "metadata": {},
   "outputs": [],
   "source": [
    "#print keys, values"
   ]
  },
  {
   "cell_type": "code",
   "execution_count": null,
   "id": "forty-gauge",
   "metadata": {},
   "outputs": [],
   "source": [
    "#extending dictionary"
   ]
  },
  {
   "cell_type": "code",
   "execution_count": 6,
   "id": "immediate-musician",
   "metadata": {},
   "outputs": [],
   "source": [
    "nvisits = {'Jonny': 3,\n",
    "         'Maarten': 5,\n",
    "         'Rob': 3,\n",
    "         \"Marthe\": 7,\n",
    "         \"Fabio\": 8}"
   ]
  },
  {
   "cell_type": "code",
   "execution_count": null,
   "id": "rapid-sugar",
   "metadata": {},
   "outputs": [],
   "source": [
    "#operations on values"
   ]
  },
  {
   "cell_type": "code",
   "execution_count": null,
   "id": "enclosed-disorder",
   "metadata": {},
   "outputs": [],
   "source": []
  }
 ],
 "metadata": {
  "kernelspec": {
   "display_name": "Python 3",
   "language": "python",
   "name": "python3"
  },
  "language_info": {
   "codemirror_mode": {
    "name": "ipython",
    "version": 3
   },
   "file_extension": ".py",
   "mimetype": "text/x-python",
   "name": "python",
   "nbconvert_exporter": "python",
   "pygments_lexer": "ipython3",
   "version": "3.9.1"
  }
 },
 "nbformat": 4,
 "nbformat_minor": 5
}
