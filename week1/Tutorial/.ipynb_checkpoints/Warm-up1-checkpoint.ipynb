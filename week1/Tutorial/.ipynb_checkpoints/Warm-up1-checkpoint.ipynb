{
 "cells": [
  {
   "cell_type": "markdown",
   "id": "reserved-hours",
   "metadata": {},
   "source": [
    "# Warm-up excercises week 1"
   ]
  },
  {
   "cell_type": "markdown",
   "id": "above-thunder",
   "metadata": {},
   "source": [
    "Now that we've seen how Python and Jupyter Notebooks work and that you have read about Computational Communication Science, it's time for you to combine apply this knowledge. To prepare for the tutorial, we ask you to complete two warm-up excercises.\n",
    "\n",
    "\n",
    "Some important notes for the excercises:\n",
    "\n",
    "* These excercises are a warming up meant to help you get ready for class. Make sure to give them a try on all of them. If you get an error message, try to troubleshoot it (using Google often helps). If all else fails, go to the next excercise (but make sure to hand it in).\n",
    "* While we of course like when you get all the answers right, the important thing is to exercise and apply the knowledge. So we will still accept solutions that may not be complete, as long as we see enough effort for each excercise. \n",
    "* Delivering the warm-up excercises on time is critical, as it helps also prepare for the tutorial session. *info on handing-in*"
   ]
  },
  {
   "cell_type": "markdown",
   "id": "eight-making",
   "metadata": {},
   "source": [
    "# Excercise 1\n",
    "\n",
    "Check out how to add (1) a list, (2) an image and (3) a link in a cell in MarkDown. You may need to search this online. Check how to do it, and include a list, an image and a link in your notebook."
   ]
  },
  {
   "cell_type": "code",
   "execution_count": null,
   "id": "considered-engine",
   "metadata": {},
   "outputs": [],
   "source": []
  },
  {
   "cell_type": "markdown",
   "id": "essential-change",
   "metadata": {},
   "source": [
    "# Excercise 2\n",
    "\n"
   ]
  },
  {
   "cell_type": "code",
   "execution_count": null,
   "id": "distant-milton",
   "metadata": {},
   "outputs": [],
   "source": []
  }
 ],
 "metadata": {
  "kernelspec": {
   "display_name": "Python 3",
   "language": "python",
   "name": "python3"
  },
  "language_info": {
   "codemirror_mode": {
    "name": "ipython",
    "version": 3
   },
   "file_extension": ".py",
   "mimetype": "text/x-python",
   "name": "python",
   "nbconvert_exporter": "python",
   "pygments_lexer": "ipython3",
   "version": "3.9.1"
  }
 },
 "nbformat": 4,
 "nbformat_minor": 5
}
