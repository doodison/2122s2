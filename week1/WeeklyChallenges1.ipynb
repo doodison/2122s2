{
 "cells": [
  {
   "cell_type": "markdown",
   "id": "theoretical-standing",
   "metadata": {},
   "source": [
    "# Challenges week 1"
   ]
  },
  {
   "cell_type": "markdown",
   "id": "marked-cancer",
   "metadata": {},
   "source": [
    "Now that you have some expereince with Jupyter notebooks and variables in Python, it's time for you to combine and apply this week's knowledge. You will start working on these challenges in the tutorial and will be asked to complete them by the end of the week.\n",
    "\n",
    "\n",
    "Some important notes for the challenges:\n",
    "\n",
    "* If you get an error message, try to troubleshoot it (using Google often helps). If all else fails, go to the next excercise (but make sure to hand it in).\n",
    "* While we of course like when you get all the answers right, the important thing is to exercise and apply the knowledge. So we will still accept solutions that may not be complete, as long as we see enough effort for each excercise. The rubric (see Canvas) reflects this.\n",
    "* We will make sure to provide feedback and improvement suggestions in the rubric. Make sure to read them; they will help you improve next week."
   ]
  },
  {
   "cell_type": "markdown",
   "id": "level-mileage",
   "metadata": {},
   "source": [
    "# Challenge\n",
    "\n",
    "This is the most important challenge of this week, as we will use the concepts here to think how to organize our (digital) data. The paragraph below contains a lot of information. How would you organize this data in a way that you can visualize and work with it later? Consider using lists, dictionaries, tuples... or whatever makes sense to you!\n",
    "\n",
    "```\n",
    "Lake Aarens is 28 years old, works as an analyst at ING,\n",
    "and is mother to a 3 year old boy. She is married to John. \n",
    "John Aarens is 32 years old, works as a journalist at NRC, \n",
    "and was born in the US. He has a 3 year old boy and is married to Lake. \n",
    "Catharine Blakeslee is a student at the University of Amsterdam, born in 2000, \n",
    "she is not married and does not have children. She was born in the UK.\n",
    "```"
   ]
  },
  {
   "cell_type": "code",
   "execution_count": null,
   "id": "conditional-investigation",
   "metadata": {},
   "outputs": [],
   "source": []
  }
 ],
 "metadata": {
  "kernelspec": {
   "display_name": "Python 3",
   "language": "python",
   "name": "python3"
  },
  "language_info": {
   "codemirror_mode": {
    "name": "ipython",
    "version": 3
   },
   "file_extension": ".py",
   "mimetype": "text/x-python",
   "name": "python",
   "nbconvert_exporter": "python",
   "pygments_lexer": "ipython3",
   "version": "3.9.1"
  }
 },
 "nbformat": 4,
 "nbformat_minor": 5
}
