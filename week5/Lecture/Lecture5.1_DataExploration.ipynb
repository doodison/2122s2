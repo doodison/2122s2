{
 "cells": [
  {
   "cell_type": "markdown",
   "id": "educational-influence",
   "metadata": {},
   "source": [
    "# Exploratory data analysis\n",
    "\n",
    "Welcome to the fifth week of the course. By the end of this week, you should acquire:\n",
    "\n",
    "**Knowledge on:**\n",
    "* Exploratory data analysis methods\n",
    "* Choosing appropriate visualisations\n",
    "\n",
    "**Skills on:**\n",
    "* Conducting exploratory data analysis\n",
    "* Visualising different types of data\n",
    "\n",
    "In today's class we will use some packages that your are already familiar with and some new ones that you need to install."
   ]
  },
  {
   "cell_type": "code",
   "execution_count": null,
   "id": "plain-increase",
   "metadata": {},
   "outputs": [],
   "source": [
    "#install matplotlib seaborn scipy "
   ]
  },
  {
   "cell_type": "code",
   "execution_count": 1,
   "id": "gentle-terry",
   "metadata": {},
   "outputs": [],
   "source": [
    "import matplotlib.pyplot as plt\n",
    "import seaborn as sns"
   ]
  },
  {
   "cell_type": "markdown",
   "id": "provincial-wyoming",
   "metadata": {},
   "source": [
    "## Data exploration\n",
    "\n",
    "### General objectives\n",
    "\n",
    "We will work with a dataset on titles and descriptions of YouTube videos that mention Joe Biden (this data is collected using YouTube API, more on that next week). \n",
    "\n",
    "To guide our class, we will pose two research questions that we can answer with the data:\n",
    "1. To what extent is the sentiment expressed in the title of the video related user engagement (views, likes and dislikes)?</br> *Tip: to create an overall sentiment score, I need at add the negative score to the positive score*\n",
    "2. To what extent does the sentiment expressed in the title of the video vary depending on whether Joe Biden is mentioned in the video?\n",
    "3. To what extent the category of the video is related to mentions of Joe Biden in the video?\n"
   ]
  },
  {
   "cell_type": "code",
   "execution_count": null,
   "id": "foster-villa",
   "metadata": {},
   "outputs": [],
   "source": []
  },
  {
   "cell_type": "markdown",
   "id": "detected-approach",
   "metadata": {},
   "source": [
    "### Step 1: loading data"
   ]
  },
  {
   "cell_type": "code",
   "execution_count": 2,
   "id": "abstract-ranch",
   "metadata": {},
   "outputs": [],
   "source": [
    "import pandas as pd"
   ]
  },
  {
   "cell_type": "code",
   "execution_count": 3,
   "id": "ancient-signature",
   "metadata": {},
   "outputs": [],
   "source": [
    "df = pd.read_pickle('videos_biden.pkl')"
   ]
  },
  {
   "cell_type": "code",
   "execution_count": 4,
   "id": "burning-scratch",
   "metadata": {},
   "outputs": [
    {
     "name": "stdout",
     "output_type": "stream",
     "text": [
      "Shape of my data = (356, 32)\n",
      "Variables: Index(['channelId', 'channelTitle', 'videoId', 'publishedAt', 'publishedAtSQL',\n",
      "       'videoTitle', 'videoDescription', 'tags', 'videoCategoryId',\n",
      "       'videoCategoryLabel', 'duration', 'durationSec', 'dimension',\n",
      "       'definition', 'caption', 'thumbnail_maxres', 'licensedContent',\n",
      "       'viewCount', 'likeCount', 'dislikeCount', 'favoriteCount',\n",
      "       'commentCount', 'dislikeCount_no_na', 'lang_title', 'negative',\n",
      "       'positive', 'neutral', 'category', 'biden_tag', 'biden_title',\n",
      "       'biden_description', 'biden_mentioned'],\n",
      "      dtype='object')\n"
     ]
    }
   ],
   "source": [
    "print(\"Shape of my data =\", df.shape)\n",
    "print(\"Variables:\", df.columns)  "
   ]
  },
  {
   "cell_type": "markdown",
   "id": "underlying-webmaster",
   "metadata": {},
   "source": [
    "Observation: To answer the RQs I need to look at variables related to sentiment (negative, posiitive), engagement metrics and mentions of Joe Biden. They seem all to be included in the dataset."
   ]
  },
  {
   "cell_type": "code",
   "execution_count": null,
   "id": "scenic-finance",
   "metadata": {},
   "outputs": [],
   "source": []
  },
  {
   "cell_type": "code",
   "execution_count": null,
   "id": "timely-hospital",
   "metadata": {},
   "outputs": [],
   "source": []
  },
  {
   "cell_type": "markdown",
   "id": "fifth-dakota",
   "metadata": {},
   "source": [
    "Observations: I am interested in commentCount that seems to have missing valuse. I need to take care of it."
   ]
  },
  {
   "cell_type": "code",
   "execution_count": null,
   "id": "cultural-mills",
   "metadata": {},
   "outputs": [],
   "source": []
  },
  {
   "cell_type": "markdown",
   "id": "cardiovascular-riding",
   "metadata": {},
   "source": [
    "Observation: from the variables I am interested in, all variables are nummerig except for sentiment, which is string."
   ]
  },
  {
   "cell_type": "markdown",
   "id": "trained-albania",
   "metadata": {},
   "source": [
    "### Step 2: Data cleaning and preparation"
   ]
  },
  {
   "cell_type": "markdown",
   "id": "experimental-efficiency",
   "metadata": {},
   "source": [
    "Based on loading and first exploration I know I need to:\n",
    "1. Fix data types for sentiment and prepare sentiment score.\n",
    "2. Deal with missing values in comment count."
   ]
  },
  {
   "cell_type": "code",
   "execution_count": 12,
   "id": "growing-rover",
   "metadata": {},
   "outputs": [],
   "source": []
  },
  {
   "cell_type": "code",
   "execution_count": 13,
   "id": "internal-upgrade",
   "metadata": {},
   "outputs": [],
   "source": []
  },
  {
   "cell_type": "code",
   "execution_count": 14,
   "id": "illegal-recovery",
   "metadata": {},
   "outputs": [],
   "source": []
  },
  {
   "cell_type": "code",
   "execution_count": 15,
   "id": "velvet-opening",
   "metadata": {},
   "outputs": [
    {
     "data": {
      "text/plain": [
       "count    356.000000\n",
       "mean      -0.353933\n",
       "std        0.861385\n",
       "min       -4.000000\n",
       "25%        0.000000\n",
       "50%        0.000000\n",
       "75%        0.000000\n",
       "max        2.000000\n",
       "Name: sentiment, dtype: float64"
      ]
     },
     "execution_count": 15,
     "metadata": {},
     "output_type": "execute_result"
    }
   ],
   "source": []
  },
  {
   "cell_type": "code",
   "execution_count": 16,
   "id": "further-establishment",
   "metadata": {},
   "outputs": [
    {
     "data": {
      "text/plain": [
       "count      326.000000\n",
       "mean      1139.003067\n",
       "std       4636.133969\n",
       "min          0.000000\n",
       "25%         24.000000\n",
       "50%        142.000000\n",
       "75%        635.500000\n",
       "max      68194.000000\n",
       "Name: commentCount, dtype: float64"
      ]
     },
     "execution_count": 16,
     "metadata": {},
     "output_type": "execute_result"
    }
   ],
   "source": []
  },
  {
   "cell_type": "code",
   "execution_count": 17,
   "id": "frozen-geology",
   "metadata": {},
   "outputs": [],
   "source": []
  },
  {
   "cell_type": "code",
   "execution_count": 18,
   "id": "spare-trailer",
   "metadata": {},
   "outputs": [
    {
     "data": {
      "text/plain": [
       "(326, 33)"
      ]
     },
     "execution_count": 18,
     "metadata": {},
     "output_type": "execute_result"
    }
   ],
   "source": []
  },
  {
   "cell_type": "markdown",
   "id": "several-blood",
   "metadata": {},
   "source": [
    "### Data exploration"
   ]
  },
  {
   "cell_type": "code",
   "execution_count": null,
   "id": "modified-transport",
   "metadata": {},
   "outputs": [],
   "source": [
    "#Exploring continous data\n",
    "df.describe().transpose()"
   ]
  },
  {
   "cell_type": "code",
   "execution_count": null,
   "id": "negative-effort",
   "metadata": {},
   "outputs": [],
   "source": []
  },
  {
   "cell_type": "markdown",
   "id": "ordinary-sacrifice",
   "metadata": {},
   "source": [
    "Looking at frequencies for categorical data"
   ]
  },
  {
   "cell_type": "code",
   "execution_count": null,
   "id": "north-interim",
   "metadata": {},
   "outputs": [],
   "source": []
  },
  {
   "cell_type": "code",
   "execution_count": null,
   "id": "electronic-chemistry",
   "metadata": {},
   "outputs": [],
   "source": []
  },
  {
   "cell_type": "markdown",
   "id": "selected-reminder",
   "metadata": {},
   "source": [
    "Exploring relations between variables"
   ]
  },
  {
   "cell_type": "code",
   "execution_count": null,
   "id": "unsigned-calculation",
   "metadata": {},
   "outputs": [],
   "source": [
    "df.groupby('category')['sentiment'].agg([np.mean, np.std]).transpose()"
   ]
  },
  {
   "cell_type": "code",
   "execution_count": null,
   "id": "lesser-matthew",
   "metadata": {},
   "outputs": [],
   "source": [
    "print(\"Mean sentiment depending on mention of biden and category\")\n",
    "df.groupby(['biden_mentioned', 'category'])['sentiment'].mean()"
   ]
  },
  {
   "cell_type": "code",
   "execution_count": null,
   "id": "studied-underground",
   "metadata": {},
   "outputs": [],
   "source": [
    "print(\"Crosstab biden mentioned and video category\")\n",
    "print(pd.crosstab(df[\"biden_mentioned\"], \n",
    "                  df[\"category\"], normalize=True))"
   ]
  },
  {
   "cell_type": "markdown",
   "id": "computational-jonathan",
   "metadata": {},
   "source": [
    "### Step 3: Data visualization\n",
    "\n",
    "## Visualization\n",
    "\n",
    "#### Introduction to matplotlib\n",
    "\n",
    "The general idea with matplotlib is to create an empty figure, and then add elements (axes, labels, titles, ...) to it, and then either save or show the image.\n",
    "\n",
    "This is especially useful if your data are not in a pandas dataframe, but, for instance, in some lists.\n",
    "\n",
    "There are multiple ways of plotting things with matplotlib, but the most common one is probably to just plot lists of values:\n"
   ]
  },
  {
   "cell_type": "code",
   "execution_count": 9,
   "id": "alike-plaza",
   "metadata": {},
   "outputs": [
    {
     "data": {
      "text/plain": [
       "Text(0.5, 0, 'x lable')"
      ]
     },
     "execution_count": 9,
     "metadata": {},
     "output_type": "execute_result"
    },
    {
     "data": {
      "image/png": "[encoded data removed]",
      "text/plain": [
       "<Figure size 432x288 with 1 Axes>"
      ]
     },
     "metadata": {
      "needs_background": "light"
     },
     "output_type": "display_data"
    }
   ],
   "source": [
    "#line by line plotting\n",
    "\n",
    "list1 = [5,6,7,8,9]\n",
    "list2 = [5,6,4,5,6]\n",
    "list3 = [7,5,7,3,5]\n",
    "\n",
    "\n",
    "plt.plot(list1,list2)\n",
    "plt.ylabel(\"y lable\")\n",
    "plt.xlabel(\"x lable\")"
   ]
  },
  {
   "cell_type": "markdown",
   "id": "fatal-jungle",
   "metadata": {},
   "source": [
    "However, you get more **control** and make your plot **scalable** if you use an object-oriented approach and create a figure and an axis object first:"
   ]
  },
  {
   "cell_type": "code",
   "execution_count": 6,
   "id": "passing-saskatchewan",
   "metadata": {},
   "outputs": [
    {
     "data": {
      "text/plain": [
       "[<matplotlib.lines.Line2D at 0x7f797803c100>]"
      ]
     },
     "execution_count": 6,
     "metadata": {},
     "output_type": "execute_result"
    },
    {
     "data": {
      "image/png": "[encoded data removed]",
      "text/plain": [
       "<Figure size 432x288 with 1 Axes>"
      ]
     },
     "metadata": {
      "needs_background": "light"
     },
     "output_type": "display_data"
    }
   ],
   "source": [
    "# filling an object\n",
    "\n",
    "# Create a figure and a so-called axis within it\n",
    "fig, ax = plt.subplots() # <---- different\n",
    "\n",
    "ax.set_ylabel(\"y lable\")\n",
    "ax.set_xlabel(\"x lable\")\n",
    "ax.plot(list1,list2)\n",
    "ax.plot(list1,list3)"
   ]
  },
  {
   "cell_type": "code",
   "execution_count": 10,
   "id": "informed-trial",
   "metadata": {},
   "outputs": [
    {
     "data": {
      "text/plain": [
       "<matplotlib.legend.Legend at 0x7f798809bd60>"
      ]
     },
     "execution_count": 10,
     "metadata": {},
     "output_type": "execute_result"
    },
    {
     "data": {
      "image/png": "[encoded data removed]",
      "text/plain": [
       "<Figure size 720x504 with 1 Axes>"
      ]
     },
     "metadata": {
      "needs_background": "light"
     },
     "output_type": "display_data"
    }
   ],
   "source": [
    "# Create a figure and a so-called axis within it\n",
    "empty_fix, axes = plt.subplots(figsize=(10,7))\n",
    "\n",
    "# let's generate some sample data\n",
    "# plot some function\n",
    "axes.plot(list1,list2, label='l12')\n",
    "axes.plot(list2,list3, label='l23')\n",
    "axes.plot(list1,list3, label='l13')\n",
    "\n",
    "# add labels, titles, legends, ...\n",
    "axes.set_xlabel('x label')\n",
    "axes.set_ylabel('y label')\n",
    "axes.set_title(\"Simple Plot\")\n",
    "axes.legend()\n",
    "\n",
    "# Save and/or show the figure. Use ? to get different options for file formats etc\n",
    "#fig.savefig('test.png',dpi=300)"
   ]
  },
  {
   "cell_type": "markdown",
   "id": "fitted-blake",
   "metadata": {},
   "source": [
    "#### Matplotlib x Pandas\n",
    "\n",
    "The most useful way for you in this class to interact with matplotlib, however, is via pandas. Pandas dataframes have build-in methods that call matplotlib 'under the hood', which makes it very easy for you to use.\n",
    "\n",
    "You essentially just add `.plot()` to a table-like object, and it will produce a plot. With the `kind` argument, you can specify which type of plot you want (pie, bar, line, etc)\n",
    "\n",
    "The nice thing is that you still can use the native matplotlib functions presented above, for instance plt.savefig() if you want to save the figures."
   ]
  },
  {
   "cell_type": "code",
   "execution_count": 19,
   "id": "innocent-assessment",
   "metadata": {},
   "outputs": [
    {
     "data": {
      "text/plain": [
       "<AxesSubplot:ylabel='Frequency'>"
      ]
     },
     "execution_count": 19,
     "metadata": {},
     "output_type": "execute_result"
    },
    {
     "data": {
      "image/png": "[encoded data removed]",
      "text/plain": [
       "<Figure size 432x288 with 1 Axes>"
      ]
     },
     "metadata": {
      "needs_background": "light"
     },
     "output_type": "display_data"
    }
   ],
   "source": [
    "df['sentiment'].plot.hist()"
   ]
  },
  {
   "cell_type": "code",
   "execution_count": 20,
   "id": "comprehensive-passage",
   "metadata": {},
   "outputs": [
    {
     "data": {
      "text/plain": [
       "<AxesSubplot:>"
      ]
     },
     "execution_count": 20,
     "metadata": {},
     "output_type": "execute_result"
    },
    {
     "data": {
      "image/png": "[encoded data removed]",
      "text/plain": [
       "<Figure size 432x288 with 1 Axes>"
      ]
     },
     "metadata": {
      "needs_background": "light"
     },
     "output_type": "display_data"
    }
   ],
   "source": [
    "df['category'].value_counts().plot.bar()"
   ]
  },
  {
   "cell_type": "code",
   "execution_count": 21,
   "id": "daily-samuel",
   "metadata": {},
   "outputs": [
    {
     "data": {
      "text/plain": [
       "<AxesSubplot:xlabel='publishedAt'>"
      ]
     },
     "execution_count": 21,
     "metadata": {},
     "output_type": "execute_result"
    },
    {
     "data": {
      "image/png": "[encoded data removed]",
      "text/plain": [
       "<Figure size 432x288 with 1 Axes>"
      ]
     },
     "metadata": {
      "needs_background": "light"
     },
     "output_type": "display_data"
    }
   ],
   "source": [
    "df.groupby([\"publishedAt\"])[\"sentiment\"].mean().plot()"
   ]
  },
  {
   "cell_type": "code",
   "execution_count": 22,
   "id": "normal-rehabilitation",
   "metadata": {},
   "outputs": [
    {
     "data": {
      "text/plain": [
       "<AxesSubplot:xlabel='publishedAt'>"
      ]
     },
     "execution_count": 22,
     "metadata": {},
     "output_type": "execute_result"
    },
    {
     "data": {
      "image/png": "[encoded data removed]",
      "text/plain": [
       "<Figure size 1152x288 with 1 Axes>"
      ]
     },
     "metadata": {
      "needs_background": "light"
     },
     "output_type": "display_data"
    }
   ],
   "source": [
    "fig, ax = plt.subplots(figsize=(16,4))\n",
    "\n",
    "df.groupby([\"publishedAt\"])[\"sentiment\"].mean().plot(ax=ax)"
   ]
  },
  {
   "cell_type": "markdown",
   "id": "copyrighted-resource",
   "metadata": {},
   "source": [
    "#### Seaborn\n",
    "\n",
    "Seaborn is built on matplotlib, but uses a different grammar. You may find it, in fact, more intuitive, as you basically provide each seaborn function with a couple of arguments (see slides).\n",
    "\n",
    "When using seaborn, we do not use the method `.plot` of a pandas object (as with matplotlib), but call the seaborn function directly and pass on the dataframe with the `data = ...` argument"
   ]
  },
  {
   "cell_type": "code",
   "execution_count": null,
   "id": "younger-violation",
   "metadata": {},
   "outputs": [],
   "source": [
    "df.columns"
   ]
  },
  {
   "cell_type": "code",
   "execution_count": 23,
   "id": "preliminary-flood",
   "metadata": {},
   "outputs": [
    {
     "data": {
      "text/plain": [
       "<seaborn.axisgrid.FacetGrid at 0x7f79ca067e80>"
      ]
     },
     "execution_count": 23,
     "metadata": {},
     "output_type": "execute_result"
    },
    {
     "data": {
      "image/png": "[encoded data removed]",
      "text/plain": [
       "<Figure size 720x360 with 2 Axes>"
      ]
     },
     "metadata": {
      "needs_background": "light"
     },
     "output_type": "display_data"
    }
   ],
   "source": [
    "sns.relplot(x=\"sentiment\", y=\"commentCount\",  col='biden_tag', data=df)"
   ]
  },
  {
   "cell_type": "markdown",
   "id": "cutting-lighting",
   "metadata": {},
   "source": [
    "### Basic chart types and how to make them\n",
    "\n",
    "### Univariate visualisations\n",
    "\n",
    "#### Bar charts\n",
    "\n",
    "* counts per (discrete) category"
   ]
  },
  {
   "cell_type": "code",
   "execution_count": null,
   "id": "alert-leisure",
   "metadata": {},
   "outputs": [],
   "source": [
    "# with matplotlib\n",
    "df['biden_tag'].value_counts(sort=False).plot(kind='bar')"
   ]
  },
  {
   "cell_type": "code",
   "execution_count": null,
   "id": "departmental-expansion",
   "metadata": {},
   "outputs": [],
   "source": [
    "# with seaborn\n",
    "sns.countplot(x = 'biden_tag', data=df)"
   ]
  },
  {
   "cell_type": "markdown",
   "id": "driven-interstate",
   "metadata": {},
   "source": [
    "#### Histagram\n",
    "\n",
    "* distribution of a variable"
   ]
  },
  {
   "cell_type": "code",
   "execution_count": null,
   "id": "hispanic-address",
   "metadata": {},
   "outputs": [],
   "source": [
    "df['sentiment'].plot.hist()"
   ]
  },
  {
   "cell_type": "code",
   "execution_count": null,
   "id": "metric-organic",
   "metadata": {},
   "outputs": [],
   "source": [
    "sns.histplot(data=df, x='sentiment')"
   ]
  },
  {
   "cell_type": "code",
   "execution_count": null,
   "id": "conditional-large",
   "metadata": {},
   "outputs": [],
   "source": [
    "sns.histplot(data=df, x='viewCount')"
   ]
  },
  {
   "cell_type": "code",
   "execution_count": null,
   "id": "bibliographic-walter",
   "metadata": {},
   "outputs": [],
   "source": [
    "sns.histplot(data=df[(df[\"viewCount\"] < 10000)], x='viewCount')"
   ]
  },
  {
   "cell_type": "markdown",
   "id": "formal-match",
   "metadata": {},
   "source": [
    "### Bivariate visualisations\n",
    "\n",
    "#### Bar charts\n",
    "\n",
    "*  statistical property (e..g, mean) per (discrete) category\n",
    "* different variations (e.g., stacked bar charts)"
   ]
  },
  {
   "cell_type": "code",
   "execution_count": null,
   "id": "elder-utility",
   "metadata": {},
   "outputs": [],
   "source": [
    "sns.barplot(x=\"biden_tag\", y=\"sentiment\", data=df, ci=95)"
   ]
  },
  {
   "cell_type": "code",
   "execution_count": null,
   "id": "special-australian",
   "metadata": {},
   "outputs": [],
   "source": [
    "sns.barplot(data=df, x='biden_tag', y = 'positive', estimator=np.median, ci=None)"
   ]
  },
  {
   "cell_type": "code",
   "execution_count": null,
   "id": "indirect-volume",
   "metadata": {},
   "outputs": [],
   "source": [
    "sns.barplot(x=\"biden_tag\", y=\"sentiment\",  hue=\"category\",  data=df, ci=None)"
   ]
  },
  {
   "cell_type": "markdown",
   "id": "valued-bargain",
   "metadata": {},
   "source": [
    "#### Line plots\n",
    "\n",
    "* ordered (and typically evenly spaced) values on x-axis\n",
    "* x-axis has many (in theory: contious) measurements\n",
    "* typical use case: plot some value(s) over time"
   ]
  },
  {
   "cell_type": "code",
   "execution_count": null,
   "id": "occasional-integration",
   "metadata": {},
   "outputs": [],
   "source": [
    "plt.figure(figsize = (15,8))\n",
    "ax = sns.lineplot(x='publishedAt', y='viewCount', data=df)"
   ]
  },
  {
   "cell_type": "code",
   "execution_count": null,
   "id": "natural-advocacy",
   "metadata": {},
   "outputs": [],
   "source": [
    "plt.figure(figsize = (15,8))\n",
    "sns.lineplot(x='publishedAt', y='viewCount', hue='category', data=df)"
   ]
  },
  {
   "cell_type": "markdown",
   "id": "seeing-dodge",
   "metadata": {},
   "source": [
    "#### Regplot/relplot\n",
    "\n",
    "* For visualising relation between two continous variables "
   ]
  },
  {
   "cell_type": "code",
   "execution_count": null,
   "id": "finished-worcester",
   "metadata": {},
   "outputs": [],
   "source": [
    "#using matplotlib\n",
    "df.plot.scatter(x='sentiment', y='viewCount', c='yellow')"
   ]
  },
  {
   "cell_type": "code",
   "execution_count": null,
   "id": "stretch-divide",
   "metadata": {},
   "outputs": [],
   "source": [
    "#using seaborn\n",
    "sns.relplot(x='sentiment', y='viewCount', data=df)"
   ]
  },
  {
   "cell_type": "code",
   "execution_count": null,
   "id": "fallen-myanmar",
   "metadata": {},
   "outputs": [],
   "source": [
    "#using seaborn\n",
    "sns.regplot(x='sentiment', y='viewCount', data=df)"
   ]
  },
  {
   "cell_type": "code",
   "execution_count": null,
   "id": "published-pierre",
   "metadata": {},
   "outputs": [],
   "source": [
    "sns.relplot(x=\"sentiment\", y=\"viewCount\", col=\"biden_mentioned\",\n",
    "            hue=\"category\",\n",
    "            data=df);"
   ]
  },
  {
   "cell_type": "code",
   "execution_count": null,
   "id": "coupled-manufacturer",
   "metadata": {},
   "outputs": [],
   "source": [
    "# We could also add histograms to the sides\n",
    "sns.jointplot(data = df, x = 'sentiment', y='likeCount', \n",
    "              kind=\"scatter\", color=\"#4CB391\")"
   ]
  },
  {
   "cell_type": "code",
   "execution_count": null,
   "id": "maritime-chocolate",
   "metadata": {},
   "outputs": [],
   "source": [
    "# ... or replace the scatterplot by a hexplot in which overlapping points lead to a darker shade\n",
    "sns.jointplot(data = df, x = 'sentiment', y='likeCount', \n",
    "              kind=\"hex\", color=\"#4CB391\")"
   ]
  },
  {
   "cell_type": "markdown",
   "id": "contrary-characteristic",
   "metadata": {},
   "source": [
    "## Back to our RQ's\n",
    "\n",
    "1. To what extent is the sentiment expressed in the title of the video related user engagement (views, likes and dislikes)?\n",
    "2. To what extent does the sentiment expressed in the title of the video vary depending on whether Joe Biden is mentioned in the video?\n",
    "3. To what extent the category of the video is related to mentions of Joe Biden in the video?\n",
    "\n",
    "### RQ1\n",
    "#### Univariate visualisations"
   ]
  },
  {
   "cell_type": "code",
   "execution_count": null,
   "id": "third-purchase",
   "metadata": {},
   "outputs": [],
   "source": []
  },
  {
   "cell_type": "code",
   "execution_count": null,
   "id": "relative-thumb",
   "metadata": {},
   "outputs": [],
   "source": []
  },
  {
   "cell_type": "code",
   "execution_count": null,
   "id": "czech-bunch",
   "metadata": {},
   "outputs": [],
   "source": []
  },
  {
   "cell_type": "code",
   "execution_count": null,
   "id": "unlimited-analysis",
   "metadata": {},
   "outputs": [],
   "source": []
  },
  {
   "cell_type": "markdown",
   "id": "eight-treatment",
   "metadata": {},
   "source": [
    "#### Bivariate visualisations"
   ]
  },
  {
   "cell_type": "code",
   "execution_count": null,
   "id": "alpine-focus",
   "metadata": {},
   "outputs": [],
   "source": []
  },
  {
   "cell_type": "markdown",
   "id": "wired-ebony",
   "metadata": {},
   "source": [
    "### RQ2\n",
    "#### Univariate visualisations"
   ]
  },
  {
   "cell_type": "code",
   "execution_count": null,
   "id": "provincial-creature",
   "metadata": {},
   "outputs": [],
   "source": []
  },
  {
   "cell_type": "markdown",
   "id": "documentary-pathology",
   "metadata": {},
   "source": [
    "#### Bivariate visualisations"
   ]
  },
  {
   "cell_type": "code",
   "execution_count": null,
   "id": "fiscal-trinity",
   "metadata": {},
   "outputs": [],
   "source": []
  },
  {
   "cell_type": "markdown",
   "id": "following-possibility",
   "metadata": {},
   "source": [
    "### RQ3\n",
    "#### Univariate visualisations"
   ]
  },
  {
   "cell_type": "code",
   "execution_count": null,
   "id": "random-portugal",
   "metadata": {},
   "outputs": [],
   "source": []
  },
  {
   "cell_type": "markdown",
   "id": "documented-kidney",
   "metadata": {},
   "source": [
    "#### Bivariate visualisations"
   ]
  },
  {
   "cell_type": "code",
   "execution_count": null,
   "id": "unlimited-nerve",
   "metadata": {},
   "outputs": [],
   "source": []
  },
  {
   "cell_type": "markdown",
   "id": "together-symposium",
   "metadata": {},
   "source": [
    "## Statistics in Python\n",
    "\n",
    "### Short intro to NumPy"
   ]
  },
  {
   "cell_type": "code",
   "execution_count": null,
   "id": "expensive-rescue",
   "metadata": {},
   "outputs": [],
   "source": [
    "import numpy as np"
   ]
  },
  {
   "cell_type": "code",
   "execution_count": null,
   "id": "absolute-minnesota",
   "metadata": {},
   "outputs": [],
   "source": [
    "numbers = [6,7,4,6,7]\n",
    "print(np.mean(numbers), ', ', np.std(numbers))"
   ]
  },
  {
   "cell_type": "code",
   "execution_count": null,
   "id": "removed-anxiety",
   "metadata": {},
   "outputs": [],
   "source": [
    "x = [88,66,4,7]\n",
    "y = [5,57,22,6]\n",
    "np.corrcoef([x,y])"
   ]
  },
  {
   "cell_type": "markdown",
   "id": "broken-cleveland",
   "metadata": {},
   "source": [
    "### Correlation (Pearson's r)"
   ]
  },
  {
   "cell_type": "code",
   "execution_count": null,
   "id": "acting-jaguar",
   "metadata": {},
   "outputs": [],
   "source": [
    "df['sentiment'].corr(df['likeCount'])"
   ]
  },
  {
   "cell_type": "code",
   "execution_count": null,
   "id": "generous-giant",
   "metadata": {},
   "outputs": [],
   "source": [
    "from scipy.stats import pearsonr\n",
    "\n",
    "pearsonr(df['sentiment'], df['likeCount'])"
   ]
  },
  {
   "cell_type": "markdown",
   "id": "stretch-mexico",
   "metadata": {},
   "source": [
    "### Independent sample t-tests"
   ]
  },
  {
   "cell_type": "code",
   "execution_count": null,
   "id": "patent-newark",
   "metadata": {},
   "outputs": [],
   "source": [
    "import scipy.stats as stats\n",
    "\n",
    "\n",
    "stats.ttest_ind(df['likeCount'][df['biden_mentioned'] == 0],\n",
    "                df['likeCount'][df['biden_mentioned'] == 1])"
   ]
  },
  {
   "cell_type": "markdown",
   "id": "geographic-fellow",
   "metadata": {},
   "source": [
    "### Bonus: assumption checking"
   ]
  },
  {
   "cell_type": "code",
   "execution_count": null,
   "id": "adequate-civilization",
   "metadata": {},
   "outputs": [],
   "source": [
    "#Levene's test\n",
    "stats.levene(df['likeCount'][df['biden_mentioned'] == 0],\n",
    "             df['likeCount'][df['biden_mentioned'] == 1],\n",
    "             center= 'mean')"
   ]
  },
  {
   "cell_type": "code",
   "execution_count": null,
   "id": "domestic-container",
   "metadata": {},
   "outputs": [],
   "source": []
  }
 ],
 "metadata": {
  "kernelspec": {
   "display_name": "Python 3",
   "language": "python",
   "name": "python3"
  },
  "language_info": {
   "codemirror_mode": {
    "name": "ipython",
    "version": 3
   },
   "file_extension": ".py",
   "mimetype": "text/x-python",
   "name": "python",
   "nbconvert_exporter": "python",
   "pygments_lexer": "ipython3",
   "version": "3.9.1"
  }
 },
 "nbformat": 4,
 "nbformat_minor": 5
}
