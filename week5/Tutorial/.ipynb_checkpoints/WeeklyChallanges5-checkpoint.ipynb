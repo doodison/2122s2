{
 "cells": [
  {
   "cell_type": "markdown",
   "id": "breeding-heather",
   "metadata": {},
   "source": [
    "# Challenges week 5\n",
    "\n",
    "Now that you have some experience with exploring your data and visualizing it, it's time for you to combine and apply your knowledge. You will start working on these challenges in the tutorial and will be asked to complete them by the end of the week. \n",
    "\n",
    "In each challenge, you are asked to provide the programing solution to it as well as a technical interpretation explaining the steps taken and the result.\n",
    "\n",
    "Some important notes for the challenges:\n",
    "\n",
    "* If you get an error message, try to troubleshoot it (using Google often helps). If all else fails, go to the next excercise (but make sure to hand it in).\n",
    "* We will make sure to provide feedback and improvement suggestions in the rubric. Make sure to read them; they will help you improve next week."
   ]
  },
  {
   "cell_type": "markdown",
   "id": "shared-rebound",
   "metadata": {},
   "source": [
    "## Dataset\n",
    "\n",
    "This week you will work with a new dataset. It is a data on U.S. partisan news pages on Facebook. This data was collected and analyzed by Silverman et al. (2017) for this article published on BuzzFeed [Inside The Partisan Fight For Your News Feed](https://www.buzzfeednews.com/article/craigsilverman/inside-the-partisan-fight-for-your-news-feed). The file you will work with is created based on the data available in this [GitHub repository](https://github.com/BuzzFeedNews/2017-08-partisan-sites-and-facebook-pages). \n",
    "\n",
    "In their investigation, the authors created a list of 667 partisan news websites. The websites were added to the list manually by two journalists who were dedicated to identifying partisan news websites. Once a website was added, its associated Facebook page was identified. This was possible for 452 websites. Information on these Facebook pages was collected using the Facebook API. Next, the websites were classified as left- or right-leaning based on a manual review of the content published by the website and its Facebook page, and by examining their About pages for mentions of partisanship. In file datasets you will use, you can find information on the Facebook pages, their political leaning as well as information on enagagement. \n",
    "\n",
    "In the challenge you will use the following files:\n",
    "- `pages-info.csv` - dataset about the identified bacebook pages. It contains the following information:\n",
    "    - page_name:  name of the page on Facebook\n",
    "    - about: description of the page\n",
    "    - fan_count: number of fans\n",
    "    - talking_about_count: number of people sharing stories about the page\n",
    "    - website: name of the website related to the page\n",
    "    - page_id: ID of the Facebook page\n",
    "    - year: year when the page was created\n",
    "    - left_leaning: political left leaning of the page (takes value 1 for pages identified as left leaning and 0 for others)\n",
    "    - left_leaning: political right leaning of the page (takes value 1 for pages identified as right leaning and 0 for others)\n",
    "- `engagement_weekly.csv` - dataset about engagement with the identified pages in the last week before 2016 US presidential electiosn. It contains the following information:\n",
    "    - page_id: ID of the Facebook page\n",
    "    - status_published: the period for which engagement was measures (in this case, first week of November 2016).\n",
    "    - total_engagement: total number of engagement with the page in the week\n",
    "    - num_reactions: total number of reactions posts by the page recieved in the week (including all possible Facebook reactions)\n",
    "    - num_comments: total number of comments posts by the page recieved in the week\n",
    "    - num_shares: total number of times posts by the page have been shared in the week\n",
    "    - num_likes: total number of likes posts by the page recieved in the week\n",
    "    - num_loves: total number of 'love' reactions posts by the page recieved in the week\n",
    "    - num_wows: total number of 'wow' reactions posts by the page recieved in the week\n",
    "    - num_hahas: total number of 'haha' reactions posts by the page recieved in the week\n",
    "    - num_sads: total number of 'sad' reactions posts by the page recieved in the week\n",
    "    - num_angrys: total number of 'angry' reactions posts by the page recieved in the week\n",
    "    - post_count: total numer of posts posted in the week"
   ]
  },
  {
   "cell_type": "markdown",
   "id": "naughty-saver",
   "metadata": {},
   "source": [
    "# Challange 1 \n",
    "\n",
    "Let's start with preparing and exploring the datasets. \n",
    "1) Explore the dataset and the necessary variables.\n",
    "2) Merge the two datasets so that you have information on pages and the engagement they generated in the last week before the 2016 presidentail elections together. *Tip: do not forget to make sure both datasets have the right keys and data types necessary for merging*\n",
    "3) To get a global picture of your data answer the questions below. If necessary, create new columns in your dataset necessary to answer the questions.\n",
    "    - How many pages in the dataset are left and how many right leaning? \n",
    "    - When were the pages in the dataset created?\n",
    "    - What is the averge number of fans for left and right leaning websites?"
   ]
  },
  {
   "cell_type": "code",
   "execution_count": null,
   "id": "duplicate-defensive",
   "metadata": {},
   "outputs": [],
   "source": []
  },
  {
   "cell_type": "markdown",
   "id": "extensive-mineral",
   "metadata": {},
   "source": [
    "# Challenge 2\n",
    "\n",
    "Now, let's visualize what we have learned about our data. Provide visualizations for your answers to question 2, Challenge 1. Take into account the measurement levels of your variables to choose the appropriate visualization. \n"
   ]
  },
  {
   "cell_type": "code",
   "execution_count": null,
   "id": "valid-capability",
   "metadata": {},
   "outputs": [],
   "source": []
  },
  {
   "cell_type": "markdown",
   "id": "conceptual-laugh",
   "metadata": {},
   "source": [
    "# Challenge 3 \n",
    "\n",
    "Imagine that you are conducting research on engagement with partisan news sites in pre-election period. You are interested in the following research question:\n",
    "\n",
    "*RQ*: To what extent is there a relation between political leaning of a news site on Facebook and the amount of engagement it recieves?\n",
    "\n",
    "To answer the research question you need to:\n",
    "* Choose appropriate independent and dependent variable.\n",
    "* Compute descriptive statistics for the chosen independent and dependent variable.\n",
    "* Create one univariate visualisation for the independent variable.\n",
    "* Create one univariate visualisation for the dependent variable.\n",
    "* Create one bivariate visualisation showing the relation between the independent and dependent variable.\n",
    "* Show the descriptives of the dependent variable grouped by the independent variable and interpret them.\n",
    "* Conduct appropriate statistical test to answer the RQ. *Tip: consider the measurement levels of your variables to choose the appropriate test.*\n"
   ]
  },
  {
   "cell_type": "code",
   "execution_count": null,
   "id": "minute-railway",
   "metadata": {},
   "outputs": [],
   "source": []
  }
 ],
 "metadata": {
  "kernelspec": {
   "display_name": "Python 3",
   "language": "python",
   "name": "python3"
  },
  "language_info": {
   "codemirror_mode": {
    "name": "ipython",
    "version": 3
   },
   "file_extension": ".py",
   "mimetype": "text/x-python",
   "name": "python",
   "nbconvert_exporter": "python",
   "pygments_lexer": "ipython3",
   "version": "3.9.1"
  }
 },
 "nbformat": 4,
 "nbformat_minor": 5
}
