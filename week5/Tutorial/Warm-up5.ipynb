{
 "cells": [
  {
   "cell_type": "markdown",
   "id": "laden-index",
   "metadata": {},
   "source": [
    "# Warm-up excercises week 5\n",
    "\n",
    "Now that you have seen how to conduct basic analyses and to visualise data, it's time for you to combine apply this knowledge. To prepare for the tutorial, we ask you to complete two warm-up excercises.\n",
    "\n",
    "\n",
    "Some important notes for the excercises:\n",
    "\n",
    "* These excercises are a warming up meant to help you get ready for class. Make sure to give them a try on all of them. If you get an error message, try to troubleshoot it (using Google often helps). If all else fails, go to the next excercise (but make sure to hand it in).\n",
    "* While we of course like when you get all the answers right, the important thing is to exercise and apply the knowledge. So we will still accept solutions that may not be complete, as long as we see enough effort for each excercise. \n",
    "* Delivering the warm-up excercises on time is critical, as it helps also prepare for the tutorial session. *info on handing-in*\n",
    "* As these excercises are meant to help you participate in the tutorial and us to make sure you can get as much as possible from the tutorials, we do not expect perfect answers. However, this is important to show the effort you have put in the excercises and what obstacles you faced."
   ]
  },
  {
   "cell_type": "markdown",
   "id": "sticky-wages",
   "metadata": {},
   "source": [
    "For this week warm-up excercices, we will use the dataset about customers of a company that you also worked with last week. There are two short excercises for you to practice data exploration and visualization.\n",
    "\n",
    "Let's start by importing the necessary packages and loading the data. "
   ]
  },
  {
   "cell_type": "code",
   "execution_count": 19,
   "id": "biological-veteran",
   "metadata": {},
   "outputs": [],
   "source": [
    "import pandas as pd\n",
    "import matplotlib.pyplot as plt\n",
    "import seaborn as sns "
   ]
  },
  {
   "cell_type": "code",
   "execution_count": 20,
   "id": "guilty-geometry",
   "metadata": {},
   "outputs": [],
   "source": [
    "df = pd.read_csv('marketing_campaign.csv', sep=';')"
   ]
  },
  {
   "cell_type": "markdown",
   "id": "established-postcard",
   "metadata": {},
   "source": [
    "# Excercise 1\n",
    "\n",
    "1. Explore the demographics of the customer base by answering the follolwing questions:\n",
    "    - What is the minimum, maximum and average age of the customers? *Tip: you need to create a new column based on `Year_Birth`.*\n",
    "    - What are the relative and absolute frequencies of education levels of customers?\n",
    "2. You want to know what type of customers file complains. Get an initial idea of the relationship between 1) education level, 2) age, and if someone has complaint in the last two years. *Tip: use `.crosstab` or `group_by` to get an idea about the relation between two variables.*\n",
    "3. Is there a correlation between one's income and number of purchases they make online and in store?"
   ]
  },
  {
   "cell_type": "code",
   "execution_count": null,
   "id": "sophisticated-renewal",
   "metadata": {},
   "outputs": [],
   "source": []
  },
  {
   "cell_type": "markdown",
   "id": "proved-lover",
   "metadata": {},
   "source": [
    "# Excercise 2\n",
    "\n",
    "Visualize different variables in your dataset. Make sure to consider what the appropriate visualization is for each variable.\n",
    "1. Visualize age distribution of the customers.\n",
    "2. Visualize education levels of the customers.\n",
    "3. Visualize the relation between 1) education level, 2) age, and if someone has complaint in the last two years. \n",
    "4. Visualize the relation between one's income and number of purchases they make online and in store. "
   ]
  },
  {
   "cell_type": "code",
   "execution_count": null,
   "id": "finished-notification",
   "metadata": {},
   "outputs": [],
   "source": []
  }
 ],
 "metadata": {
  "kernelspec": {
   "display_name": "Python 3",
   "language": "python",
   "name": "python3"
  },
  "language_info": {
   "codemirror_mode": {
    "name": "ipython",
    "version": 3
   },
   "file_extension": ".py",
   "mimetype": "text/x-python",
   "name": "python",
   "nbconvert_exporter": "python",
   "pygments_lexer": "ipython3",
   "version": "3.9.1"
  }
 },
 "nbformat": 4,
 "nbformat_minor": 5
}
