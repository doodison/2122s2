{
 "cells": [
  {
   "cell_type": "markdown",
   "id": "mental-progress",
   "metadata": {},
   "source": [
    "# Challenges week 5\n",
    "\n",
    "Now that you have some expereince with exploring your data and visualizing it, it's time for you to combine and apply your knowledge. You will start working on these challenges in the tutorial and will be asked to complete them by the end of the week. \n",
    "\n",
    "In each challange, you are asked to provide the programing solution to it as well as a technical interpretation explaining the steps taken and the result.\n",
    "\n",
    "Some important notes for the challenges:\n",
    "\n",
    "* If you get an error message, try to troubleshoot it (using Google often helps). If all else fails, go to the next excercise (but make sure to hand it in).\n",
    "* We will make sure to provide feedback and improvement suggestions in the rubric. Make sure to read them; they will help you improve next week."
   ]
  },
  {
   "cell_type": "markdown",
   "id": "certain-simon",
   "metadata": {},
   "source": [
    "This week - Buzzfeed dataset - include dataset description"
   ]
  },
  {
   "cell_type": "markdown",
   "id": "attended-rates",
   "metadata": {},
   "source": [
    "# Challange 1 \n",
    "\n",
    "Exploration - prepare the dataset and explore a number of variables."
   ]
  },
  {
   "cell_type": "code",
   "execution_count": null,
   "id": "consolidated-overhead",
   "metadata": {},
   "outputs": [],
   "source": []
  },
  {
   "cell_type": "markdown",
   "id": "rolled-ranch",
   "metadata": {},
   "source": [
    "# Challenge 2\n",
    "\n",
    "Visualize a number of variables\n",
    "* *Bonus: visualize engagement per week, including preparing the dataset in the right way*"
   ]
  },
  {
   "cell_type": "code",
   "execution_count": null,
   "id": "improved-flashing",
   "metadata": {},
   "outputs": [],
   "source": []
  },
  {
   "cell_type": "markdown",
   "id": "reasonable-invitation",
   "metadata": {},
   "source": [
    "# Challenge 3 \n",
    "\n",
    "Answer RQ\n",
    "\n",
    "You need to merge two datasets - one with information on pages and second with engagement of posts by the pages in the last week before US presidential elections 2016.\n",
    "\n",
    "In your answer, you need to:\n",
    "\n",
    "* Show descriptive statistics for the IV and the DV\n",
    "* Create one univariate visualisation for the IV\n",
    "* Create one univariate visualisation for the DV\n",
    "* Create one bivariate visualisation with the IV and DV in the same chart\n",
    "* Show the descriptives of the DV grouped by the IV and interpret them\n",
    "* Conduct appropriate statustical test"
   ]
  },
  {
   "cell_type": "code",
   "execution_count": null,
   "id": "different-scratch",
   "metadata": {},
   "outputs": [],
   "source": []
  }
 ],
 "metadata": {
  "kernelspec": {
   "display_name": "Python 3",
   "language": "python",
   "name": "python3"
  },
  "language_info": {
   "codemirror_mode": {
    "name": "ipython",
    "version": 3
   },
   "file_extension": ".py",
   "mimetype": "text/x-python",
   "name": "python",
   "nbconvert_exporter": "python",
   "pygments_lexer": "ipython3",
   "version": "3.9.1"
  }
 },
 "nbformat": 4,
 "nbformat_minor": 5
}
