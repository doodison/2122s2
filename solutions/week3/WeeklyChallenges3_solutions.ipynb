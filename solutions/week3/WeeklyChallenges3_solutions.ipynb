{
 "cells": [
  {
   "cell_type": "markdown",
   "id": "external-editor",
   "metadata": {},
   "source": [
    "# Challenges week 3"
   ]
  },
  {
   "cell_type": "markdown",
   "id": "cognitive-webmaster",
   "metadata": {},
   "source": [
    "Now that you have some expereince with the most important control structures and can apply them when writing your own functions, it's time for you to combine and apply your knowledge. You will start working on these challenges in the tutorial and will be asked to complete them by the end of the week. \n",
    "\n",
    "In each challange, you are asked to provide the programing solution to it as well as a technical interpretation explaining the steps taken and the result.\n",
    "\n",
    "\n",
    "Some important notes for the challenges:\n",
    "\n",
    "* If you get an error message, try to troubleshoot it (using Google often helps). If all else fails, go to the next excercise (but make sure to hand it in).\n",
    "* We will make sure to provide feedback and improvement suggestions in the rubric. Make sure to read them; they will help you improve next week."
   ]
  },
  {
   "cell_type": "markdown",
   "id": "satellite-things",
   "metadata": {},
   "source": [
    "# Challenge 1\n",
    "\n",
    "Below, you have a list that contains referals (places from which a visitor has entered a website) for one hour of the day. This is an example of digital trace data. Imagine that this is a list of referrals to the website of a news organization (one article). The list is ordered chronologically. \n",
    "\n",
    "* Write function that categorizes the visitors in a meaningful way (it is up to you what way you choose, but explain your choices) and use it to create a new re-categorized list.\n",
    "* How many vistits came from each category?\n",
    "* Write the list you created to a .txt file."
   ]
  },
  {
   "cell_type": "code",
   "execution_count": 1,
   "id": "executed-wrestling",
   "metadata": {},
   "outputs": [],
   "source": [
    "visitors = ['homepage',\n",
    "            'homepage',\n",
    "            'homepage',\n",
    "            'instagram app',\n",
    "            'facebook app',\n",
    "            'campaign utx=1389',\n",
    "            'homepage',\n",
    "            'facebook app',\n",
    "            'homepage',\n",
    "            'google search',\n",
    "            'homepage',\n",
    "            'facebook app',\n",
    "            'homepage',\n",
    "            'homepage',\n",
    "            'homepage',\n",
    "            'campaign utx=1389',\n",
    "            'homepage',\n",
    "            'homepage',\n",
    "            'instagram app',\n",
    "            'campaign utx=1389',\n",
    "            'facebook.com',\n",
    "            'facebook app',\n",
    "            'google search',\n",
    "            'homepage',\n",
    "            'campaign utx=1389',\n",
    "            'campaign utx=1389',\n",
    "            'homepage',\n",
    "            'instagram app',\n",
    "            'homepage',\n",
    "            'homepage',\n",
    "            'homepage',\n",
    "            'instagram app',\n",
    "            'campaign utx=1389',\n",
    "            'instagram app',\n",
    "            'facebook app',\n",
    "            'homepage',\n",
    "            'facebook.com',\n",
    "            'campaign utx=1389',\n",
    "            'campaign utx=1389',\n",
    "            'homepage',\n",
    "            'homepage',\n",
    "            'facebook.com',\n",
    "            'instagram app',\n",
    "            'instagram app',\n",
    "            'campaign utx=1389',\n",
    "            'homepage',\n",
    "            'facebook.com',\n",
    "            'newsletter',\n",
    "            'newsletter',\n",
    "            'homepage',\n",
    "            'newsletter',\n",
    "            'homepage',\n",
    "            'newsletter',\n",
    "            'facebook.com',\n",
    "            'facebook.com',\n",
    "            'homepage',\n",
    "            'newsletter',\n",
    "            'newsletter',\n",
    "            'newsletter',\n",
    "            'google search',\n",
    "            'campaign utx=1389',\n",
    "            'newsletter',\n",
    "            'newsletter']"
   ]
  },
  {
   "cell_type": "markdown",
   "id": "exclusive-stanford",
   "metadata": {},
   "source": [
    "To create a meaningful categorization, I will first check what elements are in my list. I will do so by using the set function to convert my list to a set (*tip: if you do not remember what a set is, have a look at lecture 1*). "
   ]
  },
  {
   "cell_type": "code",
   "execution_count": 2,
   "id": "piano-spray",
   "metadata": {},
   "outputs": [
    {
     "data": {
      "text/plain": [
       "{'campaign utx=1389',\n",
       " 'facebook app',\n",
       " 'facebook.com',\n",
       " 'google search',\n",
       " 'homepage',\n",
       " 'instagram app',\n",
       " 'newsletter'}"
      ]
     },
     "execution_count": 2,
     "metadata": {},
     "output_type": "execute_result"
    }
   ],
   "source": [
    "#Changing the list to a set\n",
    "set(visitors)"
   ]
  },
  {
   "cell_type": "markdown",
   "id": "technical-address",
   "metadata": {},
   "source": [
    "I can see that there are eight different sources that the visitors came from. I decided to classify them as social media, newsletter, campaigns and other. I choose this classification as I am interested in paid media and not organic trafic (such as search or direct visits).\n",
    "\n",
    "To do so, I will write a function that takes a string as input and uses conditions to check what the string is. It then returns another string - the new category. \n",
    "\n",
    "*Note: this is one possible function. You could also write this function for example using the operator `in`: `if 'facebook' in x:`."
   ]
  },
  {
   "cell_type": "code",
   "execution_count": 3,
   "id": "responsible-editor",
   "metadata": {},
   "outputs": [],
   "source": [
    "#Function \n",
    "def check_visitors(x): #function takes x as argument. x needs to be a string\n",
    "    if x == 'facebook app':\n",
    "        return 'social media'\n",
    "    elif x == 'facebook.com':\n",
    "        return 'social media'\n",
    "    elif x == 'instagram app':\n",
    "        return 'social media'\n",
    "    elif x == 'newsletter':\n",
    "        return 'newsletter'\n",
    "    elif x == 'campaign utx=1389':\n",
    "        return 'campaign'\n",
    "    else:\n",
    "        return 'other'"
   ]
  },
  {
   "cell_type": "markdown",
   "id": "sound-manual",
   "metadata": {},
   "source": [
    "The function takes a string as input. To apply it, I need to loop over the list of strings I have. To create a new re-categorized list, I will first make an empty list and then fill it with the output from my function using `.append`."
   ]
  },
  {
   "cell_type": "code",
   "execution_count": 4,
   "id": "according-cross",
   "metadata": {},
   "outputs": [
    {
     "data": {
      "text/plain": [
       "['other',\n",
       " 'other',\n",
       " 'other',\n",
       " 'social media',\n",
       " 'social media',\n",
       " 'campaign',\n",
       " 'other',\n",
       " 'social media',\n",
       " 'other',\n",
       " 'other',\n",
       " 'other',\n",
       " 'social media',\n",
       " 'other',\n",
       " 'other',\n",
       " 'other',\n",
       " 'campaign',\n",
       " 'other',\n",
       " 'other',\n",
       " 'social media',\n",
       " 'campaign',\n",
       " 'social media',\n",
       " 'social media',\n",
       " 'other',\n",
       " 'other',\n",
       " 'campaign',\n",
       " 'campaign',\n",
       " 'other',\n",
       " 'social media',\n",
       " 'other',\n",
       " 'other',\n",
       " 'other',\n",
       " 'social media',\n",
       " 'campaign',\n",
       " 'social media',\n",
       " 'social media',\n",
       " 'other',\n",
       " 'social media',\n",
       " 'campaign',\n",
       " 'campaign',\n",
       " 'other',\n",
       " 'other',\n",
       " 'social media',\n",
       " 'social media',\n",
       " 'social media',\n",
       " 'campaign',\n",
       " 'other',\n",
       " 'social media',\n",
       " 'newsletter',\n",
       " 'newsletter',\n",
       " 'other',\n",
       " 'newsletter',\n",
       " 'other',\n",
       " 'newsletter',\n",
       " 'social media',\n",
       " 'social media',\n",
       " 'other',\n",
       " 'newsletter',\n",
       " 'newsletter',\n",
       " 'newsletter',\n",
       " 'other',\n",
       " 'campaign',\n",
       " 'newsletter',\n",
       " 'newsletter']"
      ]
     },
     "execution_count": 4,
     "metadata": {},
     "output_type": "execute_result"
    }
   ],
   "source": [
    "#Creating empty list\n",
    "new_visitors=[]\n",
    "#Looping over original list, applying function and appending the new list with the outcome from the function.\n",
    "for visitor in visitors:\n",
    "    new_visitors.append(check_visitors(visitor))\n",
    "new_visitors"
   ]
  },
  {
   "cell_type": "markdown",
   "id": "roman-present",
   "metadata": {},
   "source": [
    "To check how many visits came from each category I can use `.count.` method that we have learned in week 1. This shows me that the most visitors came from other (organic) sources."
   ]
  },
  {
   "cell_type": "code",
   "execution_count": 5,
   "id": "affiliated-teddy",
   "metadata": {},
   "outputs": [
    {
     "data": {
      "text/plain": [
       "9"
      ]
     },
     "execution_count": 5,
     "metadata": {},
     "output_type": "execute_result"
    }
   ],
   "source": [
    "new_visitors.count('newsletter')"
   ]
  },
  {
   "cell_type": "code",
   "execution_count": 6,
   "id": "mysterious-serial",
   "metadata": {},
   "outputs": [
    {
     "data": {
      "text/plain": [
       "10"
      ]
     },
     "execution_count": 6,
     "metadata": {},
     "output_type": "execute_result"
    }
   ],
   "source": [
    "new_visitors.count('campaign')"
   ]
  },
  {
   "cell_type": "code",
   "execution_count": 7,
   "id": "rotary-latex",
   "metadata": {},
   "outputs": [
    {
     "data": {
      "text/plain": [
       "18"
      ]
     },
     "execution_count": 7,
     "metadata": {},
     "output_type": "execute_result"
    }
   ],
   "source": [
    "new_visitors.count('social media')"
   ]
  },
  {
   "cell_type": "code",
   "execution_count": 8,
   "id": "naked-forest",
   "metadata": {},
   "outputs": [
    {
     "data": {
      "text/plain": [
       "26"
      ]
     },
     "execution_count": 8,
     "metadata": {},
     "output_type": "execute_result"
    }
   ],
   "source": [
    "new_visitors.count('other')"
   ]
  },
  {
   "cell_type": "markdown",
   "id": "controlling-custom",
   "metadata": {},
   "source": [
    "I can now save the list to a txt file called \"visitors\" by writing the current list to it."
   ]
  },
  {
   "cell_type": "code",
   "execution_count": 9,
   "id": "productive-procedure",
   "metadata": {},
   "outputs": [],
   "source": [
    "#Writing txt\n",
    "with open('visitors.txt', mode = 'w', encoding='utf-8') as f:\n",
    "    f.writelines(new_visitors)"
   ]
  },
  {
   "cell_type": "markdown",
   "id": "junior-blake",
   "metadata": {},
   "source": [
    "# Challenge 2\n",
    "\n",
    "`timeonsite` dictionary contains information on the time visitors spent on a website of a news organization reading an article.  The keys are visitor ID's (they are unique) and the values are either a single digit if someone has visited the website once or a list of digits if the person visited the site multiple times.\n",
    "* Write a function that shows how many times an individual visited the website. \n",
    "* Adjust that function so that it computes average visit lenght for a visitor.\n",
    "* Using either of the dictionaries, write a function that classifies visitors as frequent visitors (at least 3 visits in a day).\n",
    "* *Extra: In the second dictionary `timeonsite_day2`, visits from the next day are recorded. However, something went wrong with data collection and sometimes we see an error instead of the visit lenght. Can you adjust your function to take this into account?*"
   ]
  },
  {
   "cell_type": "code",
   "execution_count": 10,
   "id": "favorite-opinion",
   "metadata": {},
   "outputs": [],
   "source": [
    "timeonsite = {'ae5efe74061d4048964216c70f3a418c': 67,\n",
    "              '65241d7b66974fc798f307383c4714e8': [45,187,44],\n",
    "              '7f1de8287e184071840c8744cfcc8780': [32,48,312],\n",
    "              'c4681ec57db14d88b27a34560fe4d6ad': 453,\n",
    "              '4db40286540a48a1bdc73621e9ae699d': [67,89,46,90,104],\n",
    "              '7af0f5fd5b8d4025a9c86e1857f495f7': [34,89,135,104,106],\n",
    "              '49482fdca3db43d295f7d5b89e4a654e': [23,78,156,189,143,187],\n",
    "              'cba7ba80d78c4406b18ad97d59792d7d': 8,\n",
    "              '0a27e7eb71494802a4862a6b01aefe2c': [34,65,18,22],\n",
    "              '37a56050f11241778ef182afe5a58843': [56,87],\n",
    "              '1a18d1f7940f484b9d04f223930dfb4f': [76,98,106,125,356],\n",
    "              '483bd2d270134f4c96b128217b712b35': 45,\n",
    "              'ea5f7ddfc91945fc96b8b15c9f4a26b4': [76,109,45,22]}"
   ]
  },
  {
   "cell_type": "markdown",
   "id": "interracial-filter",
   "metadata": {},
   "source": [
    "Looking at the dictionary, I need to write a function that will be applied to its values. The values are either single integers for visitors who visited the page once and lists of integers for visitors that visited more than once. This mean that my function needs to take this into account and allow for two kinds of inputs - integers and lists. \n",
    "\n",
    "In the function, I will either return 1 is someone visited once and hence has only one integer as value or return the lenght of the list of visits. "
   ]
  },
  {
   "cell_type": "code",
   "execution_count": 11,
   "id": "constant-western",
   "metadata": {},
   "outputs": [],
   "source": [
    "def get_number_of_visits(x): #this function takes an int or a list as input\n",
    "    if type(x) is int: #if int = single visit\n",
    "        return 1\n",
    "    else: #in other cases - lenght of visit list\n",
    "        return len(x)\n"
   ]
  },
  {
   "cell_type": "markdown",
   "id": "stopped-cooling",
   "metadata": {},
   "source": [
    "To count the number of visits I need to apply the function to the values of my dictionary. I use the method `.items()` to do so."
   ]
  },
  {
   "cell_type": "code",
   "execution_count": 12,
   "id": "secret-performance",
   "metadata": {},
   "outputs": [
    {
     "name": "stdout",
     "output_type": "stream",
     "text": [
      "ae5efe74061d4048964216c70f3a418c has visited the site 1 times\n",
      "65241d7b66974fc798f307383c4714e8 has visited the site 3 times\n",
      "7f1de8287e184071840c8744cfcc8780 has visited the site 3 times\n",
      "c4681ec57db14d88b27a34560fe4d6ad has visited the site 1 times\n",
      "4db40286540a48a1bdc73621e9ae699d has visited the site 5 times\n",
      "7af0f5fd5b8d4025a9c86e1857f495f7 has visited the site 5 times\n",
      "49482fdca3db43d295f7d5b89e4a654e has visited the site 6 times\n",
      "cba7ba80d78c4406b18ad97d59792d7d has visited the site 1 times\n",
      "0a27e7eb71494802a4862a6b01aefe2c has visited the site 4 times\n",
      "37a56050f11241778ef182afe5a58843 has visited the site 2 times\n",
      "1a18d1f7940f484b9d04f223930dfb4f has visited the site 5 times\n",
      "483bd2d270134f4c96b128217b712b35 has visited the site 1 times\n",
      "ea5f7ddfc91945fc96b8b15c9f4a26b4 has visited the site 4 times\n"
     ]
    }
   ],
   "source": [
    "for k, v in timeonsite.items():\n",
    "    print(f\"{k} has visited the site {get_number_of_visits(v)} times\")"
   ]
  },
  {
   "cell_type": "markdown",
   "id": "responsible-windsor",
   "metadata": {},
   "source": [
    "To get the average lenght of visit, I need to slightly adjust the function. When someone visited once and has one integer as value, their average visit lenght is equal to that integer. If they visited more often, I can take the meanvalue of the elements in the list. There are mutliple ways to do so, but I will use the mathematical operation we did in earlier weeks using `sum` and `len`. "
   ]
  },
  {
   "cell_type": "code",
   "execution_count": 13,
   "id": "surprised-guinea",
   "metadata": {},
   "outputs": [],
   "source": [
    "def get_average_time(x): #this function takes an int or a list as input\n",
    "    if type(x) is int: #if int = average is equal to the visit lenght\n",
    "        return x\n",
    "    else: #in other cases = calculate mean\n",
    "        return sum(x)/len(x)"
   ]
  },
  {
   "cell_type": "markdown",
   "id": "final-mitchell",
   "metadata": {},
   "source": [
    "To get averages for all visitors, I need to apply the function to the values of my dictionary. I use the method `.items()` to do so."
   ]
  },
  {
   "cell_type": "code",
   "execution_count": 14,
   "id": "focused-composite",
   "metadata": {},
   "outputs": [
    {
     "name": "stdout",
     "output_type": "stream",
     "text": [
      "ae5efe74061d4048964216c70f3a418c has spent 67 second on the site\n",
      "65241d7b66974fc798f307383c4714e8 has spent 92.0 second on the site\n",
      "7f1de8287e184071840c8744cfcc8780 has spent 130.66666666666666 second on the site\n",
      "c4681ec57db14d88b27a34560fe4d6ad has spent 453 second on the site\n",
      "4db40286540a48a1bdc73621e9ae699d has spent 79.2 second on the site\n",
      "7af0f5fd5b8d4025a9c86e1857f495f7 has spent 93.6 second on the site\n",
      "49482fdca3db43d295f7d5b89e4a654e has spent 129.33333333333334 second on the site\n",
      "cba7ba80d78c4406b18ad97d59792d7d has spent 8 second on the site\n",
      "0a27e7eb71494802a4862a6b01aefe2c has spent 34.75 second on the site\n",
      "37a56050f11241778ef182afe5a58843 has spent 71.5 second on the site\n",
      "1a18d1f7940f484b9d04f223930dfb4f has spent 152.2 second on the site\n",
      "483bd2d270134f4c96b128217b712b35 has spent 45 second on the site\n",
      "ea5f7ddfc91945fc96b8b15c9f4a26b4 has spent 63.0 second on the site\n"
     ]
    }
   ],
   "source": [
    "for k, v in timeonsite.items():\n",
    "    print(f\"{k} has spent {get_average_time(v)} second on the site\")"
   ]
  },
  {
   "cell_type": "markdown",
   "id": "cheap-market",
   "metadata": {},
   "source": [
    "Finally, to write a function to categorize visitors, I will base it on the previous function. This function also needs to take either an integer or a list as input, but in this case, the conditions are different. \n",
    "* If the input is an int, it means single visit so the function needs to classify that visitor as non-freqent. \n",
    "* If the input is list and its lenght is equal or shorter than 3, the function should output non-frequent.\n",
    "* If the input is list and its lenght is longer than 3, the function should output frequent."
   ]
  },
  {
   "cell_type": "code",
   "execution_count": 15,
   "id": "intensive-dealing",
   "metadata": {},
   "outputs": [],
   "source": [
    "def get_frequency(x): #this function takes an int or a list as input\n",
    "    if type(x) is int: #if int = single visit, non-frequent visitor\n",
    "        return \"non-frequent\"\n",
    "    elif len(x)<=3: #if lenght of the list shorter than or equal to 3 - non frequent visitor\n",
    "        return \"non-frequent\"\n",
    "    elif len(x)>3:#if lenght of the list longer than 3 - frequent visitor\n",
    "        return \"frequent\""
   ]
  },
  {
   "cell_type": "markdown",
   "id": "proper-france",
   "metadata": {},
   "source": [
    "To categorize all visitors, I need to apply the function to the values of my dictionary. I use the method `.items()` to do so."
   ]
  },
  {
   "cell_type": "code",
   "execution_count": 16,
   "id": "refined-universal",
   "metadata": {},
   "outputs": [
    {
     "name": "stdout",
     "output_type": "stream",
     "text": [
      "ae5efe74061d4048964216c70f3a418c is a non-frequent visitor\n",
      "65241d7b66974fc798f307383c4714e8 is a non-frequent visitor\n",
      "7f1de8287e184071840c8744cfcc8780 is a non-frequent visitor\n",
      "c4681ec57db14d88b27a34560fe4d6ad is a non-frequent visitor\n",
      "4db40286540a48a1bdc73621e9ae699d is a frequent visitor\n",
      "7af0f5fd5b8d4025a9c86e1857f495f7 is a frequent visitor\n",
      "49482fdca3db43d295f7d5b89e4a654e is a frequent visitor\n",
      "cba7ba80d78c4406b18ad97d59792d7d is a non-frequent visitor\n",
      "0a27e7eb71494802a4862a6b01aefe2c is a frequent visitor\n",
      "37a56050f11241778ef182afe5a58843 is a non-frequent visitor\n",
      "1a18d1f7940f484b9d04f223930dfb4f is a frequent visitor\n",
      "483bd2d270134f4c96b128217b712b35 is a non-frequent visitor\n",
      "ea5f7ddfc91945fc96b8b15c9f4a26b4 is a frequent visitor\n"
     ]
    }
   ],
   "source": [
    "for k, v in timeonsite.items():\n",
    "    print(f\"{k} is a {get_frequency(v)} visitor\")"
   ]
  },
  {
   "cell_type": "markdown",
   "id": "headed-choir",
   "metadata": {},
   "source": [
    "#### Non-graded bonus\n",
    "\n",
    "This dictionary has different values. It not only has integers and lists of integers, but also strings that indicate errors. There are different ways to adjust the function to accomodate it, for example:\n",
    "* make sure that the function can deal with strings\n",
    "* use `try except` to prevent errors"
   ]
  },
  {
   "cell_type": "code",
   "execution_count": 17,
   "id": "reflected-overhead",
   "metadata": {},
   "outputs": [],
   "source": [
    "timeonsite_day2 = {'ae5efe74061d4048964216c70f3a418c': 67,\n",
    "              '65241d7b66974fc798f307383c4714e8': 'ERROR',\n",
    "              '7f1de8287e184071840c8744cfcc8780': [32,48,312],\n",
    "              'c4681ec57db14d88b27a34560fe4d6ad': 453,\n",
    "              '4db40286540a48a1bdc73621e9ae699d': [67,89,46,90,104],\n",
    "              '7af0f5fd5b8d4025a9c86e1857f495f7': [34,89,135,104,106],\n",
    "              '49482fdca3db43d295f7d5b89e4a654e': [23,78,156,189,143,187],\n",
    "              'cba7ba80d78c4406b18ad97d59792d7d': 8,\n",
    "              '0a27e7eb71494802a4862a6b01aefe2c': [34,65,18,22],\n",
    "              '37a56050f11241778ef182afe5a58843': [56,87],\n",
    "              '1a18d1f7940f484b9d04f223930dfb4f': 'ERROR',\n",
    "              '483bd2d270134f4c96b128217b712b35': 45,\n",
    "              'ea5f7ddfc91945fc96b8b15c9f4a26b4': [76,109,45,22]}"
   ]
  },
  {
   "cell_type": "markdown",
   "id": "parliamentary-muslim",
   "metadata": {},
   "source": [
    "I will adjust my exisitng function to have a condition for the case that the input is a string. In this case, I return that no recors is available."
   ]
  },
  {
   "cell_type": "code",
   "execution_count": 18,
   "id": "ambient-melbourne",
   "metadata": {},
   "outputs": [],
   "source": [
    "def get_number_of_visits(x): #this function takes an int, a list or a string as input\n",
    "    if type(x) is str:\n",
    "        return \"Not recorded\"\n",
    "    elif type(x) is int:\n",
    "        return 1\n",
    "    else:\n",
    "        return len(x)"
   ]
  },
  {
   "cell_type": "markdown",
   "id": "informational-deadline",
   "metadata": {},
   "source": [
    "To count the number of visits, I need to apply the function to the values of my dictionary. I use the method `.items()` to do so."
   ]
  },
  {
   "cell_type": "code",
   "execution_count": 19,
   "id": "convenient-realtor",
   "metadata": {},
   "outputs": [
    {
     "name": "stdout",
     "output_type": "stream",
     "text": [
      "ae5efe74061d4048964216c70f3a418c has visited the site 1 times\n",
      "65241d7b66974fc798f307383c4714e8 has visited the site Not recorded times\n",
      "7f1de8287e184071840c8744cfcc8780 has visited the site 3 times\n",
      "c4681ec57db14d88b27a34560fe4d6ad has visited the site 1 times\n",
      "4db40286540a48a1bdc73621e9ae699d has visited the site 5 times\n",
      "7af0f5fd5b8d4025a9c86e1857f495f7 has visited the site 5 times\n",
      "49482fdca3db43d295f7d5b89e4a654e has visited the site 6 times\n",
      "cba7ba80d78c4406b18ad97d59792d7d has visited the site 1 times\n",
      "0a27e7eb71494802a4862a6b01aefe2c has visited the site 4 times\n",
      "37a56050f11241778ef182afe5a58843 has visited the site 2 times\n",
      "1a18d1f7940f484b9d04f223930dfb4f has visited the site Not recorded times\n",
      "483bd2d270134f4c96b128217b712b35 has visited the site 1 times\n",
      "ea5f7ddfc91945fc96b8b15c9f4a26b4 has visited the site 4 times\n"
     ]
    }
   ],
   "source": [
    "for k, v in timeonsite_day2.items():\n",
    "    print(f\"{k} has visited the site {get_number_of_visits(v)} times\")"
   ]
  },
  {
   "cell_type": "markdown",
   "id": "banned-england",
   "metadata": {},
   "source": [
    "## Challenge 3\n",
    "\n",
    "Imagine you are using a json file to keep track of the books you have read in the last year. The json file is structured as follows: it is a dictionary in which keys are titles of the books you read and values the ratings you gave them on a scale from 1-10. You want to know which books were rates as excellent, which as good and which were not so good. You have written a function to do so, but it seems not to work. Use debugging techniques discussed in class to solve the errors."
   ]
  },
  {
   "cell_type": "markdown",
   "id": "eight-actress",
   "metadata": {},
   "source": [
    "The first error shows that a modul is missing. I will import json to fix it."
   ]
  },
  {
   "cell_type": "code",
   "execution_count": 20,
   "id": "velvet-command",
   "metadata": {},
   "outputs": [],
   "source": [
    "# Opening JSON file\n",
    "import json\n",
    "with open('mybooks.json', mode = \"r\", encoding='utf-8') as json_file:\n",
    "    data = json.load(json_file)"
   ]
  },
  {
   "cell_type": "markdown",
   "id": "average-worst",
   "metadata": {},
   "source": [
    "When runing the function, I get syntax error in line 2. It looks like the condition is not written correctly. Adding another x fixes it."
   ]
  },
  {
   "cell_type": "code",
   "execution_count": 21,
   "id": "fitted-mailing",
   "metadata": {},
   "outputs": [],
   "source": [
    "def good_books(x):\n",
    "    if x >= 6 & x < 8:\n",
    "        return \"good book\"\n",
    "    elif x > 8:\n",
    "        return \"excellent book\"\n",
    "    else:\n",
    "        return \"less good book\"\n",
    "        "
   ]
  },
  {
   "cell_type": "markdown",
   "id": "bridal-export",
   "metadata": {},
   "source": [
    "In the next line, I try to loop over a dict, but the loop is missing `.items()`."
   ]
  },
  {
   "cell_type": "code",
   "execution_count": 22,
   "id": "bright-conjunction",
   "metadata": {},
   "outputs": [
    {
     "name": "stdout",
     "output_type": "stream",
     "text": [
      "Hamlet, Prince of Denmark is  good book\n",
      "Antiquities of the Jews is  good book\n",
      "The Moon and Sixpence is  good book\n",
      "The Lock and Key Library: Classic Mystery and Detective Stories: Modern English is  good book\n",
      "What Men Live By, and Other Tales is  good book\n",
      "A Portrait of the Artist as a Young Man is  good book\n",
      "My Bondage and My Freedom is  good book\n",
      "A Vindication of the Rights of Woman: With Strictures on Political and Moral Subjects is  good book\n",
      "Trial of the Major War Criminals Before the International Military Tribunal, Vol. I: Nuremburg 14 November 1945-1 October 1946: Vol. I is  good book\n",
      "Line and Form (1900) is  good book\n",
      "Lady Windermere's Fan is  good book\n",
      "The History Of The Decline And Fall Of The Roman Empire: Table of Contents with links in the HTML file to the two; Project Gutenberg editions (12 volumes) is  good book\n",
      "Jesus the Christ: A Study of the Messiah and His Mission According to Holy; Scriptures Both Ancient and Modern is  good book\n",
      "Self-Control Its Kingship and Majesty is  good book\n",
      "The Iliad of Homer: Translated into English Blank Verse by William Cowper is  good book\n",
      "Clarissa Harlowe; or the history of a young lady — Volume 1 is  good book\n",
      "Simple Sabotage Field Manual is  good book\n",
      "Der Struwwelpeter: oder lustige Geschichten und drollige Bilder is  good book\n",
      "Woodcraft and Camping is  good book\n",
      "The Varieties of Religious Experience: A Study in Human Nature is  good book\n",
      "The Metamorphoses of Ovid, Books I-VII is  good book\n",
      "Household Stories by the Brothers Grimm is  good book\n",
      "Don Quijote is  good book\n"
     ]
    },
    {
     "ename": "TypeError",
     "evalue": "unsupported operand type(s) for &: 'int' and 'NoneType'",
     "output_type": "error",
     "traceback": [
      "\u001b[0;31m---------------------------------------------------------------------------\u001b[0m",
      "\u001b[0;31mTypeError\u001b[0m                                 Traceback (most recent call last)",
      "\u001b[0;32m<ipython-input-22-f086799c08ba>\u001b[0m in \u001b[0;36m<module>\u001b[0;34m\u001b[0m\n\u001b[1;32m      1\u001b[0m \u001b[0;32mfor\u001b[0m \u001b[0mk\u001b[0m\u001b[0;34m,\u001b[0m\u001b[0mv\u001b[0m \u001b[0;32min\u001b[0m \u001b[0mdata\u001b[0m\u001b[0;34m.\u001b[0m\u001b[0mitems\u001b[0m\u001b[0;34m(\u001b[0m\u001b[0;34m)\u001b[0m\u001b[0;34m:\u001b[0m\u001b[0;34m\u001b[0m\u001b[0;34m\u001b[0m\u001b[0m\n\u001b[0;32m----> 2\u001b[0;31m     \u001b[0mprint\u001b[0m\u001b[0;34m(\u001b[0m\u001b[0mk\u001b[0m\u001b[0;34m,\u001b[0m \u001b[0;34m\"is \"\u001b[0m\u001b[0;34m,\u001b[0m \u001b[0mgood_books\u001b[0m\u001b[0;34m(\u001b[0m\u001b[0mv\u001b[0m\u001b[0;34m)\u001b[0m\u001b[0;34m)\u001b[0m\u001b[0;34m\u001b[0m\u001b[0;34m\u001b[0m\u001b[0m\n\u001b[0m",
      "\u001b[0;32m<ipython-input-21-7beaced05b4c>\u001b[0m in \u001b[0;36mgood_books\u001b[0;34m(x)\u001b[0m\n\u001b[1;32m      1\u001b[0m \u001b[0;32mdef\u001b[0m \u001b[0mgood_books\u001b[0m\u001b[0;34m(\u001b[0m\u001b[0mx\u001b[0m\u001b[0;34m)\u001b[0m\u001b[0;34m:\u001b[0m\u001b[0;34m\u001b[0m\u001b[0;34m\u001b[0m\u001b[0m\n\u001b[0;32m----> 2\u001b[0;31m     \u001b[0;32mif\u001b[0m \u001b[0mx\u001b[0m \u001b[0;34m>=\u001b[0m \u001b[0;36m6\u001b[0m \u001b[0;34m&\u001b[0m \u001b[0mx\u001b[0m \u001b[0;34m<\u001b[0m \u001b[0;36m8\u001b[0m\u001b[0;34m:\u001b[0m\u001b[0;34m\u001b[0m\u001b[0;34m\u001b[0m\u001b[0m\n\u001b[0m\u001b[1;32m      3\u001b[0m         \u001b[0;32mreturn\u001b[0m \u001b[0;34m\"good book\"\u001b[0m\u001b[0;34m\u001b[0m\u001b[0;34m\u001b[0m\u001b[0m\n\u001b[1;32m      4\u001b[0m     \u001b[0;32melif\u001b[0m \u001b[0mx\u001b[0m \u001b[0;34m>\u001b[0m \u001b[0;36m8\u001b[0m\u001b[0;34m:\u001b[0m\u001b[0;34m\u001b[0m\u001b[0;34m\u001b[0m\u001b[0m\n\u001b[1;32m      5\u001b[0m         \u001b[0;32mreturn\u001b[0m \u001b[0;34m\"excellent book\"\u001b[0m\u001b[0;34m\u001b[0m\u001b[0;34m\u001b[0m\u001b[0m\n",
      "\u001b[0;31mTypeError\u001b[0m: unsupported operand type(s) for &: 'int' and 'NoneType'"
     ]
    }
   ],
   "source": [
    "for k,v in data.items():\n",
    "    print(k, \"is \", good_books(v))"
   ]
  },
  {
   "cell_type": "markdown",
   "id": "boolean-system",
   "metadata": {},
   "source": [
    "Adding `.items()` solves the issue with the loop, but I get another error. The erro says that the type of object I input in my function is not correct. The error happens in the second line of the function. I will need to look at the values to see what is going on."
   ]
  },
  {
   "cell_type": "code",
   "execution_count": 23,
   "id": "amazing-bridge",
   "metadata": {},
   "outputs": [
    {
     "data": {
      "text/plain": [
       "dict_values([4, 1, 3, 2, 5, 4, 1, 5, 2, 4, 9, 9, 3, 6, 1, 3, 7, 4, 3, 9, 4, 3, 9, None, 6, 7, 2, 8, 8, 9, 5, 9, 1, 2, 7, 9, 2, 4, 2, 9, 5, 1, 4, 9, 5, 9, 5, 1, 3, 2, 2, 1, 8, 7, 5, 6, 2, 8, 8, 4, 5, 5, 5, 4, 6, 6, 7, 8, 7, 3, 9, 7, 6, 6, 5, 4, 1, 5, 6, 8, 2, 4, 2, 6, 7, 9, 6, 1, 4, '3', '6', 3, 7, 6, 7, 4, 3, 3, 5, 7, None])"
      ]
     },
     "execution_count": 23,
     "metadata": {},
     "output_type": "execute_result"
    }
   ],
   "source": [
    "data.values()"
   ]
  },
  {
   "cell_type": "markdown",
   "id": "sixth-digest",
   "metadata": {},
   "source": [
    "It looks that the values are integers, but also strings and sone missing values (`None`). This is something to accomodate for in the function. To fix it, I use try and except: trying to convert the input to int and executing conditions. If that does not work, using except and returning error."
   ]
  },
  {
   "cell_type": "code",
   "execution_count": 24,
   "id": "swiss-string",
   "metadata": {},
   "outputs": [],
   "source": [
    "def good_books(x): #this function takes anything as input and tries to covert it to an int\n",
    "    try:\n",
    "        x = int(x)\n",
    "        if x >= 6 & x < 8:\n",
    "            return \"good book\"\n",
    "        elif x > 8:\n",
    "            return \"excellent book\"\n",
    "        else:\n",
    "            return \"less good book\"\n",
    "    except:\n",
    "        return \"no rating available\"\n",
    "        "
   ]
  },
  {
   "cell_type": "code",
   "execution_count": 25,
   "id": "thermal-champagne",
   "metadata": {},
   "outputs": [
    {
     "name": "stdout",
     "output_type": "stream",
     "text": [
      "Hamlet, Prince of Denmark is  good book\n",
      "Antiquities of the Jews is  good book\n",
      "The Moon and Sixpence is  good book\n",
      "The Lock and Key Library: Classic Mystery and Detective Stories: Modern English is  good book\n",
      "What Men Live By, and Other Tales is  good book\n",
      "A Portrait of the Artist as a Young Man is  good book\n",
      "My Bondage and My Freedom is  good book\n",
      "A Vindication of the Rights of Woman: With Strictures on Political and Moral Subjects is  good book\n",
      "Trial of the Major War Criminals Before the International Military Tribunal, Vol. I: Nuremburg 14 November 1945-1 October 1946: Vol. I is  good book\n",
      "Line and Form (1900) is  good book\n",
      "Lady Windermere's Fan is  good book\n",
      "The History Of The Decline And Fall Of The Roman Empire: Table of Contents with links in the HTML file to the two; Project Gutenberg editions (12 volumes) is  good book\n",
      "Jesus the Christ: A Study of the Messiah and His Mission According to Holy; Scriptures Both Ancient and Modern is  good book\n",
      "Self-Control Its Kingship and Majesty is  good book\n",
      "The Iliad of Homer: Translated into English Blank Verse by William Cowper is  good book\n",
      "Clarissa Harlowe; or the history of a young lady — Volume 1 is  good book\n",
      "Simple Sabotage Field Manual is  good book\n",
      "Der Struwwelpeter: oder lustige Geschichten und drollige Bilder is  good book\n",
      "Woodcraft and Camping is  good book\n",
      "The Varieties of Religious Experience: A Study in Human Nature is  good book\n",
      "The Metamorphoses of Ovid, Books I-VII is  good book\n",
      "Household Stories by the Brothers Grimm is  good book\n",
      "Don Quijote is  good book\n",
      "The Elements of Drawing, in Three Letters to Beginners is  no rating available\n",
      "Utopia is  good book\n",
      "A Shropshire Lad is  good book\n",
      "Nursing as Caring: A Model for Transforming Practice is  good book\n",
      "Famous Modern Ghost Stories is  good book\n",
      "Time In the Round is  good book\n",
      "The Secret Adversary is  good book\n",
      "Treasure Island is  good book\n",
      "The Tribes and Castes of the Central Provinces of India, Volume 1 is  good book\n",
      "The Sketch-Book of Geoffrey Crayon is  good book\n",
      "The Communist Manifesto is  good book\n",
      "A Beginner's Psychology is  good book\n",
      "Looking Backward, 2000 to 1887 is  good book\n",
      "\"1812\" Napoleon I in Russia is  good book\n",
      "She Stoops to Conquer; Or, The Mistakes of a Night: A Comedy is  good book\n",
      "Letters of Abelard and Heloise: To which is prefix'd a particular account of their lives, amours, and misfortunes is  good book\n",
      "The Memoirs of Jacques Casanova de Seingalt, 1725-1798. Complete is  good book\n",
      "A Woman of No Importance is  good book\n",
      "A Princess of Mars is  good book\n",
      "The Wisdom of Father Brown is  good book\n",
      "Daddy-Long-Legs is  good book\n",
      "The Satyricon — Complete is  good book\n",
      "Dubliners is  good book\n",
      "The Works of Edgar Allan Poe — Volume 3 is  good book\n",
      "The Importance of Being Earnest: A Trivial Comedy for Serious People is  good book\n",
      "Memoirs of Napoleon Bonaparte — Complete is  good book\n",
      "The Last Man is  good book\n",
      "In Bad Company and other stories is  good book\n",
      "Sonnets from the Portuguese is  good book\n",
      "Heart of Darkness is  good book\n",
      "The New Life (La Vita Nuova) is  good book\n",
      "Alice's Abenteuer im Wunderland is  good book\n",
      "Cookery and Dining in Imperial Rome is  good book\n",
      "The Love of Monsieur is  good book\n",
      "History of Tom Jones, a Foundling is  good book\n",
      "Kim is  good book\n",
      "Lineage, Life and Labors of José Rizal, Philippine Patriot is  good book\n",
      "The Memoirs of the Conquistador Bernal Diaz del Castillo, Vol 1 (of 2): Written by Himself Containing a True and Full Account of the Discovery and Conquest of Mexico and New Spain. is  good book\n",
      "Beasts, Men and Gods is  good book\n",
      "The King in Yellow is  good book\n",
      "Myths & Legends of the Celtic Race is  good book\n",
      "The Devil's Dictionary is  good book\n",
      "A Connecticut Yankee in King Arthur's Court is  good book\n",
      "The Scarlet Letter is  good book\n",
      "Through the Looking-Glass is  good book\n",
      "Lady Audley's Secret is  good book\n",
      "The Social Cancer: A Complete English Version of Noli Me Tangere is  good book\n",
      "Voyage to Far N'jurd is  good book\n",
      "The Principles of Chemistry Volume I (of 2) is  good book\n",
      "The Art of War is  good book\n",
      "Gulliver's Travels into Several Remote Nations of the World is  good book\n",
      "English Literature: Its History and Its Significance for the Life of the English-Speaking World is  good book\n",
      "The Man Who Was Thursday: A Nightmare is  good book\n",
      "The History of Don Quixote, Volume 1, Complete is  good book\n",
      "Laughter: An Essay on the Meaning of the Comic is  good book\n",
      "The Kama Sutra of Vatsyayana: Translated From the Sanscrit in Seven Parts With Preface, Introduction and Concluding Remarks is  good book\n",
      "The Poetics of Aristotle is  good book\n",
      "The Secret Garden is  good book\n",
      "The Arabian Nights Entertainments is  good book\n",
      "The Thirty-Nine Steps is  good book\n",
      "Fifty Famous Stories Retold is  good book\n",
      "As a Man Thinketh is  good book\n",
      "The Spectator, Volumes 1, 2 and 3: With Translations and Index for the Series is  good book\n",
      "The Picture of Dorian Gray is  good book\n",
      "Claudian, volume 1 (of 2): With an English translation by Maurice Platnauer is  good book\n",
      "People Soup is  good book\n",
      "Siddhartha: eine indische Dichtung is  good book\n",
      "Villette is  good book\n",
      "Mark Twain's Speeches is  good book\n",
      "The Essays of \"George Eliot\": Complete is  good book\n",
      "The Consolation of Philosophy is  good book\n",
      "Les misérables Tome I: Fantine is  good book\n",
      "Nationalism is  good book\n",
      "Cicero's Tusculan Disputations: Also, Treatises On The Nature Of The Gods, And On The Commonwealth is  good book\n",
      "Twice Told Tales is  good book\n",
      "The Woman in White is  good book\n",
      "The Vampyre; a Tale is  good book\n",
      "The Good Soldier is  no rating available\n"
     ]
    }
   ],
   "source": [
    "for k,v in data.items():\n",
    "    print(k, \"is \", good_books(v))"
   ]
  },
  {
   "cell_type": "code",
   "execution_count": null,
   "id": "comprehensive-direction",
   "metadata": {},
   "outputs": [],
   "source": []
  }
 ],
 "metadata": {
  "kernelspec": {
   "display_name": "Python 3",
   "language": "python",
   "name": "python3"
  },
  "language_info": {
   "codemirror_mode": {
    "name": "ipython",
    "version": 3
   },
   "file_extension": ".py",
   "mimetype": "text/x-python",
   "name": "python",
   "nbconvert_exporter": "python",
   "pygments_lexer": "ipython3",
   "version": "3.9.1"
  }
 },
 "nbformat": 4,
 "nbformat_minor": 5
}
