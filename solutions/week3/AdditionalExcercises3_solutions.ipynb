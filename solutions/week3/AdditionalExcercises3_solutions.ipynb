{
 "cells": [
  {
   "cell_type": "markdown",
   "id": "diverse-graduation",
   "metadata": {},
   "source": [
    "# Additional excercises week 3\n",
    "\n",
    "This notebook contains additional excercises. These excercises will either be used in the tutorials or you can solve them to practice the skills of the week further."
   ]
  },
  {
   "cell_type": "markdown",
   "id": "humanitarian-grocery",
   "metadata": {},
   "source": [
    "## Excercise 1\n",
    "\n",
    "Write a function that creates a new list with sqared numbers of list `numbers`."
   ]
  },
  {
   "cell_type": "code",
   "execution_count": 1,
   "id": "innocent-likelihood",
   "metadata": {},
   "outputs": [],
   "source": [
    "numbers = [4, 7, 3, 8, -5]"
   ]
  },
  {
   "cell_type": "markdown",
   "id": "subtle-labor",
   "metadata": {},
   "source": [
    "This function needs the following:\n",
    "* An integer as input (argument)\n",
    "* To return the squared integer\n",
    "\n",
    "And I need to apply this function to every argument of the list `numbers` and append the output from the function to a new empty list."
   ]
  },
  {
   "cell_type": "code",
   "execution_count": 2,
   "id": "civilian-heath",
   "metadata": {},
   "outputs": [
    {
     "data": {
      "text/plain": [
       "[16, 49, 9, 64, 25]"
      ]
     },
     "execution_count": 2,
     "metadata": {},
     "output_type": "execute_result"
    }
   ],
   "source": [
    "#Solution\n",
    "\n",
    "numbers_sq = [] #empty list that I will fill using teh function\n",
    "\n",
    "def sq(x): #This function takes an int as input\n",
    "    return(x*x)\n",
    "\n",
    "for number in numbers:\n",
    "    numbers_sq.append(sq(number))\n",
    "\n",
    "numbers_sq"
   ]
  },
  {
   "cell_type": "markdown",
   "id": "opening-victory",
   "metadata": {},
   "source": [
    "## Excercise 2\n",
    "\n",
    "Write a Python function that takes a list and returns a new list with unique elements of the first list."
   ]
  },
  {
   "cell_type": "code",
   "execution_count": 3,
   "id": "lesser-liberia",
   "metadata": {},
   "outputs": [],
   "source": [
    "original_list = ['apple', 'orange', 'apple', 'carrot', 'kiwi', 'orange']"
   ]
  },
  {
   "cell_type": "markdown",
   "id": "floppy-awareness",
   "metadata": {},
   "source": [
    "This function needs to:\n",
    "* Take a list or a string as input (argument)\n",
    "* Create a list of unique values\n",
    "* To do so, I will make sure that it checks if the string it gets is already in that list."
   ]
  },
  {
   "cell_type": "code",
   "execution_count": 4,
   "id": "binding-terrorist",
   "metadata": {},
   "outputs": [],
   "source": [
    "#Solution\n",
    "def unique_list(l): #This function takes a list as input (to loop over it)\n",
    "    x = [] #creating an empty list that will be filled with unique values\n",
    "    for element in l: #looping over the input \n",
    "        if element not in x: #Checking if the element from the list is already in the new list x\n",
    "            x.append(element) #If not - appending it to x\n",
    "    return x #returning x - list of unique elements."
   ]
  },
  {
   "cell_type": "code",
   "execution_count": 5,
   "id": "swiss-outdoors",
   "metadata": {},
   "outputs": [
    {
     "data": {
      "text/plain": [
       "['apple', 'orange', 'carrot', 'kiwi']"
      ]
     },
     "execution_count": 5,
     "metadata": {},
     "output_type": "execute_result"
    }
   ],
   "source": [
    "unique_list(original_list)"
   ]
  },
  {
   "cell_type": "markdown",
   "id": "moving-irrigation",
   "metadata": {},
   "source": [
    "## Bonus: Excercise 3\n",
    "\n",
    "\n",
    "`visitorinterests` contains information on interests of visitors of a website. The webiste can use this information to personalize its content to the visitor.\n",
    "1. What are the keys and what are the values in the dictonary?\n",
    "1. Write a function that categorizes the visitors in three interest groups: cooking, travel and arts, and use it to create a new re-categorized dictionary.\n",
    "2. How many vistits came from each category?"
   ]
  },
  {
   "cell_type": "code",
   "execution_count": 6,
   "id": "aquatic-queensland",
   "metadata": {},
   "outputs": [],
   "source": [
    "visitorinterests = {'k3Cd0aE_LC': ['acting', 'sculpture'],\n",
    "                     'CepXg0tw8G': ['France', 'Italy', 'London', 'food'],\n",
    "                     'EIsyL5pWNI': ['musical','restaurants', 'cooking'],\n",
    "                     'UICImjsIGT': ['Provence','London', 'food'],\n",
    "                     'EOD9hAGn4N': ['acting', 'sculpture', 'Italy'],\n",
    "                     'MjCOBJegtE': ['France','food', 'restaurants'],\n",
    "                     'B8JMKx8vBl': ['jazz music', 'London'],\n",
    "                     '_vtcymSYSZ': ['Provence', 'restaurants'],\n",
    "                     'USLVncUhFQ': ['sculpture', 'acting'],\n",
    "                     'UW0eL_dUhV': ['musical', 'Provence'],\n",
    "                     '3Cwc_zF-DK': ['Italy'],\n",
    "                     'a0fdsPehB6': ['jazz music', 'London'],\n",
    "                     'hRAXtXZjzo': ['restaurants', 'cooking']}"
   ]
  },
  {
   "cell_type": "markdown",
   "id": "continued-anime",
   "metadata": {},
   "source": [
    "For Q1, I can use the code from lecture 1 that shows all keys and all values."
   ]
  },
  {
   "cell_type": "code",
   "execution_count": 7,
   "id": "prostate-commitment",
   "metadata": {},
   "outputs": [
    {
     "data": {
      "text/plain": [
       "(dict_keys(['k3Cd0aE_LC', 'CepXg0tw8G', 'EIsyL5pWNI', 'UICImjsIGT', 'EOD9hAGn4N', 'MjCOBJegtE', 'B8JMKx8vBl', '_vtcymSYSZ', 'USLVncUhFQ', 'UW0eL_dUhV', '3Cwc_zF-DK', 'a0fdsPehB6', 'hRAXtXZjzo']),\n",
       " dict_values([['acting', 'sculpture'], ['France', 'Italy', 'London', 'food'], ['musical', 'restaurants', 'cooking'], ['Provence', 'London', 'food'], ['acting', 'sculpture', 'Italy'], ['France', 'food', 'restaurants'], ['jazz music', 'London'], ['Provence', 'restaurants'], ['sculpture', 'acting'], ['musical', 'Provence'], ['Italy'], ['jazz music', 'London'], ['restaurants', 'cooking']]))"
      ]
     },
     "execution_count": 7,
     "metadata": {},
     "output_type": "execute_result"
    }
   ],
   "source": [
    "#Solution\n",
    "#Q1\n",
    "\n",
    "visitorinterests.keys(), visitorinterests.values()"
   ]
  },
  {
   "cell_type": "markdown",
   "id": "developing-shark",
   "metadata": {},
   "source": [
    "For Q2, I want to recategorize the values of the dictionary - group them together. To do so, I need a function that\n",
    "* Takes a string as input (the values are lists of strings)\n",
    "* Checks if the string fits a certain category\n",
    "* If so - return the name of the category"
   ]
  },
  {
   "cell_type": "code",
   "execution_count": 8,
   "id": "recreational-portuguese",
   "metadata": {},
   "outputs": [],
   "source": [
    "#Function\n",
    "def check_visitors(x):#this function takes a string an input\n",
    "    if x in ['acting', 'sculpture', 'jazz music', 'musical']: #we check if the interest is in the list of arts related interests\n",
    "        return 'arts'\n",
    "    if x in ['Provence', 'France', 'Italy', 'London']: #we check if the interest is in the list of travel related interests\n",
    "        return 'travel'\n",
    "    if x in ['food', 'restaurants', 'cooking']: #we check if the interest is in the list of food related interests\n",
    "        return 'food'\n",
    "    return 'not categorized' #for all other interest, we create category \"Not categorized\""
   ]
  },
  {
   "cell_type": "markdown",
   "id": "fewer-address",
   "metadata": {},
   "source": [
    "Next, I need to loop over the exisiting dictionary to apply the function to its values. The output from the function become values for a new dictionary."
   ]
  },
  {
   "cell_type": "code",
   "execution_count": 9,
   "id": "quick-station",
   "metadata": {},
   "outputs": [
    {
     "data": {
      "text/plain": [
       "{'k3Cd0aE_LC': ['arts'],\n",
       " 'CepXg0tw8G': ['travel', 'food'],\n",
       " 'EIsyL5pWNI': ['arts', 'food'],\n",
       " 'UICImjsIGT': ['travel', 'food'],\n",
       " 'EOD9hAGn4N': ['arts', 'travel'],\n",
       " 'MjCOBJegtE': ['travel', 'food'],\n",
       " 'B8JMKx8vBl': ['arts', 'travel'],\n",
       " '_vtcymSYSZ': ['travel', 'food'],\n",
       " 'USLVncUhFQ': ['arts'],\n",
       " 'UW0eL_dUhV': ['arts', 'travel'],\n",
       " '3Cwc_zF-DK': ['travel'],\n",
       " 'a0fdsPehB6': ['arts', 'travel'],\n",
       " 'hRAXtXZjzo': ['food']}"
      ]
     },
     "execution_count": 9,
     "metadata": {},
     "output_type": "execute_result"
    }
   ],
   "source": [
    "new_visitors={} #we create an empty dictionary that we will fill\n",
    "\n",
    "for key,value in visitorinterests.items(): #we loop over the exisitng dictionary with info on visitors\n",
    "    new_visitors[key] = [] #we define that in the new empty dictionary the values will be lists (just like in the exisiting dictionary)\n",
    "    for item in value: #we loop over every value in the exisiting dictionary (as the values are lists and the function requires a string)\n",
    "        if check_visitors(item) not in new_visitors[key]: #we apply the function to the entry in the list and check if the category it belongs to alredy is in the new dictionary \n",
    "            new_visitors[key].append(check_visitors(item)) #if it is not, we append the category to the new dictionary\n",
    "new_visitors"
   ]
  },
  {
   "cell_type": "markdown",
   "id": "rental-swing",
   "metadata": {},
   "source": [
    "To find out how many times each category is mentioned in the dictionary, I can loop over its values and count how often each category occurs. To do so, I create three counters and add 1 to them every time a category is mentioned in the values lists."
   ]
  },
  {
   "cell_type": "code",
   "execution_count": 10,
   "id": "atomic-rover",
   "metadata": {},
   "outputs": [
    {
     "name": "stdout",
     "output_type": "stream",
     "text": [
      "7\n",
      "9\n",
      "6\n"
     ]
    }
   ],
   "source": [
    "counter_arts=0\n",
    "counter_travel=0\n",
    "counter_food=0\n",
    "counter_other=0\n",
    "\n",
    "for k, v in new_visitors.items(): #loop over the dict\n",
    "    if 'arts' in v: #if string arts in the list - add 1 to counter_arts\n",
    "        counter_arts+=1\n",
    "    if 'travel' in v: #if string travel in the list - add 1 to counter_arts\n",
    "        counter_travel+=1\n",
    "    if 'food' in v: #if string food in the list - add 1 to counter_arts\n",
    "        counter_food+=1\n",
    "        \n",
    "        \n",
    "\n",
    "print(counter_arts)\n",
    "print(counter_travel)\n",
    "print(counter_food)"
   ]
  },
  {
   "cell_type": "code",
   "execution_count": null,
   "id": "municipal-migration",
   "metadata": {},
   "outputs": [],
   "source": []
  }
 ],
 "metadata": {
  "kernelspec": {
   "display_name": "Python 3",
   "language": "python",
   "name": "python3"
  },
  "language_info": {
   "codemirror_mode": {
    "name": "ipython",
    "version": 3
   },
   "file_extension": ".py",
   "mimetype": "text/x-python",
   "name": "python",
   "nbconvert_exporter": "python",
   "pygments_lexer": "ipython3",
   "version": "3.9.1"
  }
 },
 "nbformat": 4,
 "nbformat_minor": 5
}
