{
 "cells": [
  {
   "cell_type": "markdown",
   "id": "nominated-tourism",
   "metadata": {},
   "source": [
    "# Methods & functions, data structures\n",
    "\n",
    "Welcome to the third week of the course. By the end of this week, you should acquire:\n",
    "\n",
    "**Knowledge on:**\n",
    "* Data types and data structures\n",
    "* Methods and functions\n",
    "\n",
    "**Skills on:**\n",
    "* Writing your own functions\n",
    "* Choose appropriate data structure\n",
    "* Handling errors"
   ]
  },
  {
   "cell_type": "markdown",
   "id": "southern-ferry",
   "metadata": {},
   "source": [
    "## Methods \n",
    "\n",
    "A method is a \"function\" that “belongs to” an object. "
   ]
  },
  {
   "cell_type": "code",
   "execution_count": 6,
   "id": "numerous-immune",
   "metadata": {},
   "outputs": [],
   "source": [
    "#Examples of methods\n",
    "mystr = \"This is an example of a string. Very short example. \""
   ]
  },
  {
   "cell_type": "code",
   "execution_count": 7,
   "id": "photographic-triangle",
   "metadata": {},
   "outputs": [
    {
     "data": {
      "text/plain": [
       "<function str.lower()>"
      ]
     },
     "execution_count": 7,
     "metadata": {},
     "output_type": "execute_result"
    }
   ],
   "source": [
    "mystr.lower"
   ]
  },
  {
   "cell_type": "code",
   "execution_count": 8,
   "id": "behavioral-campaign",
   "metadata": {},
   "outputs": [
    {
     "data": {
      "text/plain": [
       "'this is an example of a string. very short example. '"
      ]
     },
     "execution_count": 8,
     "metadata": {},
     "output_type": "execute_result"
    }
   ],
   "source": [
    "mystr.lower()"
   ]
  },
  {
   "cell_type": "code",
   "execution_count": 9,
   "id": "academic-williams",
   "metadata": {},
   "outputs": [
    {
     "data": {
      "text/plain": [
       "'This is an example of a string. Very short example.'"
      ]
     },
     "execution_count": 9,
     "metadata": {},
     "output_type": "execute_result"
    }
   ],
   "source": [
    "mystr.strip()"
   ]
  },
  {
   "cell_type": "code",
   "execution_count": 13,
   "id": "numeric-radical",
   "metadata": {},
   "outputs": [
    {
     "data": {
      "text/plain": [
       "['this',\n",
       " 'is',\n",
       " 'an',\n",
       " 'example',\n",
       " 'of',\n",
       " 'a',\n",
       " 'string.',\n",
       " 'very',\n",
       " 'short',\n",
       " 'example.']"
      ]
     },
     "execution_count": 13,
     "metadata": {},
     "output_type": "execute_result"
    }
   ],
   "source": [
    "mystr.lower().split()"
   ]
  },
  {
   "cell_type": "code",
   "execution_count": 14,
   "id": "constant-escape",
   "metadata": {},
   "outputs": [],
   "source": [
    "#.append"
   ]
  },
  {
   "cell_type": "markdown",
   "id": "efficient-clerk",
   "metadata": {},
   "source": [
    "## Functions\n",
    "\n",
    "Functions are a way to repeat a certain activity multiple times in Python. They help you write a certain action once, and reuse it many times. As you can imagine, this is really powerful for data preparation. Let's see some examples."
   ]
  },
  {
   "cell_type": "markdown",
   "id": "young-shirt",
   "metadata": {},
   "source": [
    "### Built-in functions\n",
    "\n",
    "In pyhton, there are numerous functions that come with it or with different packages you install. "
   ]
  },
  {
   "cell_type": "code",
   "execution_count": 16,
   "id": "colonial-commission",
   "metadata": {},
   "outputs": [
    {
     "data": {
      "text/plain": [
       "5"
      ]
     },
     "execution_count": 16,
     "metadata": {},
     "output_type": "execute_result"
    }
   ],
   "source": [
    "int(\"5\")"
   ]
  },
  {
   "cell_type": "code",
   "execution_count": 17,
   "id": "arctic-concrete",
   "metadata": {},
   "outputs": [
    {
     "data": {
      "text/plain": [
       "52"
      ]
     },
     "execution_count": 17,
     "metadata": {},
     "output_type": "execute_result"
    }
   ],
   "source": [
    "len(mystr)"
   ]
  },
  {
   "cell_type": "code",
   "execution_count": 18,
   "id": "political-collection",
   "metadata": {},
   "outputs": [],
   "source": [
    "numbers = [34,56,34,76,33,44]"
   ]
  },
  {
   "cell_type": "code",
   "execution_count": 19,
   "id": "floral-twins",
   "metadata": {},
   "outputs": [
    {
     "data": {
      "text/plain": [
       "46.166666666666664"
      ]
     },
     "execution_count": 19,
     "metadata": {},
     "output_type": "execute_result"
    }
   ],
   "source": [
    "sum(numbers)/len(numbers)"
   ]
  },
  {
   "cell_type": "markdown",
   "id": "split-donna",
   "metadata": {},
   "source": [
    "### Write your own functions\n",
    "\n",
    "When you want to do a certain action that does not come with the built-in functions and you want to be able to execute this action many times, you can write your own function."
   ]
  },
  {
   "cell_type": "code",
   "execution_count": 1,
   "id": "documented-equality",
   "metadata": {},
   "outputs": [],
   "source": [
    "def add_one(number):\n",
    "    number = number + 1\n",
    "    return number"
   ]
  },
  {
   "cell_type": "code",
   "execution_count": 2,
   "id": "dated-newark",
   "metadata": {},
   "outputs": [
    {
     "data": {
      "text/plain": [
       "6"
      ]
     },
     "execution_count": 2,
     "metadata": {},
     "output_type": "execute_result"
    }
   ],
   "source": [
    "add_one(5)"
   ]
  },
  {
   "cell_type": "markdown",
   "id": "serious-manor",
   "metadata": {},
   "source": [
    "This may be going too fast. Let's look at the elements above that constitute a function.\n",
    "\n",
    "In the **first line**:\n",
    "* ```def``` indicates to Python that you are creating (defining) a function\n",
    "* ```add_one``` is the name of the function. You can give it any name you want, as long as (a) it does not start with a number or restricted character, (b) it does not have a space, and (c) it does not overlap with one of Python's basic commands.\n",
    "* ```(number)``` specifies the arguments that will be passed along to the function (i.e., that the function will use). It is up to you what name you give to the argument. A function can also be written without arguments - i.e., just ```()``` - but in this course we mostly will use arguments.\n",
    "* ```:``` don't forget this - as it indicates that the function has been defined, and what comes underneath is the function itself\n",
    "\n",
    "**After the first line**, notice the indent, i.e., that anything that happens inside the function is indented (with spaces) within the function. That way, Python knows until which line of the code belongs to the function.\n",
    "\n",
    "In this area, the function is being defined. The arguments - in our case, ```number``` - can then be used by the function in whatever operations we want to run. In this case, we are saying to add 1 to number or, in code, ```number = number + 1```.\n",
    "\n",
    "**In the last line of the function**, we have ```return```, which specifies what the function should return.\n",
    "\n",
    "\n",
    "\n",
    "\n",
    "\n",
    "\n"
   ]
  },
  {
   "cell_type": "code",
   "execution_count": 3,
   "id": "organized-reminder",
   "metadata": {},
   "outputs": [],
   "source": [
    "#Function with two arguments\n",
    "def addone_multiply(number, multiply):\n",
    "    new_number = (number + 1) * multiply\n",
    "    return new_number"
   ]
  },
  {
   "cell_type": "code",
   "execution_count": 4,
   "id": "forty-better",
   "metadata": {},
   "outputs": [
    {
     "data": {
      "text/plain": [
       "30"
      ]
     },
     "execution_count": 4,
     "metadata": {},
     "output_type": "execute_result"
    }
   ],
   "source": [
    "addone_multiply(5,5)"
   ]
  },
  {
   "cell_type": "code",
   "execution_count": 7,
   "id": "macro-antique",
   "metadata": {},
   "outputs": [],
   "source": [
    "# Looping over list and applying function \n",
    "numbers = [3,6,3,6,8,2]\n"
   ]
  },
  {
   "cell_type": "code",
   "execution_count": 16,
   "id": "norman-framing",
   "metadata": {},
   "outputs": [
    {
     "name": "stdout",
     "output_type": "stream",
     "text": [
      "20\n",
      "35\n",
      "20\n",
      "35\n",
      "45\n",
      "15\n"
     ]
    }
   ],
   "source": [
    "for n in numbers:\n",
    "    new_n = addone_multiply(n,5)\n",
    "    print(new_n)"
   ]
  },
  {
   "cell_type": "code",
   "execution_count": 17,
   "id": "environmental-modeling",
   "metadata": {},
   "outputs": [
    {
     "data": {
      "text/plain": [
       "15"
      ]
     },
     "execution_count": 17,
     "metadata": {},
     "output_type": "execute_result"
    }
   ],
   "source": [
    "new_n"
   ]
  },
  {
   "cell_type": "code",
   "execution_count": 18,
   "id": "arabic-reproduction",
   "metadata": {},
   "outputs": [
    {
     "data": {
      "text/plain": [
       "[3, 6, 3, 6, 8, 2]"
      ]
     },
     "execution_count": 18,
     "metadata": {},
     "output_type": "execute_result"
    }
   ],
   "source": [
    "numbers"
   ]
  },
  {
   "cell_type": "code",
   "execution_count": 19,
   "id": "obvious-organization",
   "metadata": {},
   "outputs": [],
   "source": [
    "new_numbers=[]\n",
    "for n in numbers:\n",
    "    new_numbers.append(addone_multiply(n,5))"
   ]
  },
  {
   "cell_type": "code",
   "execution_count": 20,
   "id": "outdoor-aquatic",
   "metadata": {},
   "outputs": [
    {
     "data": {
      "text/plain": [
       "[20, 35, 20, 35, 45, 15]"
      ]
     },
     "execution_count": 20,
     "metadata": {},
     "output_type": "execute_result"
    }
   ],
   "source": [
    "new_numbers"
   ]
  },
  {
   "cell_type": "code",
   "execution_count": 21,
   "id": "dimensional-sherman",
   "metadata": {},
   "outputs": [],
   "source": [
    "#Looping over dict and applying function"
   ]
  },
  {
   "cell_type": "code",
   "execution_count": 46,
   "id": "promising-swimming",
   "metadata": {},
   "outputs": [],
   "source": [
    "#What is the average grade of each student\n",
    "semester_grades = {\"Katy\": [6,8,6.5], \"Jim\":[8,7,7.5], \"Jamy\":[5.5,6,6], \"Julia\":[5.5,6,5.5], \"Amy\":[3.5,6,5.5]}"
   ]
  },
  {
   "cell_type": "code",
   "execution_count": 48,
   "id": "differential-coral",
   "metadata": {},
   "outputs": [],
   "source": [
    "def check_ave(x):\n",
    "    if type(x) == list:\n",
    "        return(sum(x)/len(x))\n",
    "    else:\n",
    "        return(\"ERROR\")"
   ]
  },
  {
   "cell_type": "code",
   "execution_count": 49,
   "id": "extensive-virgin",
   "metadata": {},
   "outputs": [
    {
     "name": "stdout",
     "output_type": "stream",
     "text": [
      "6.833333333333333\n",
      "7.5\n",
      "5.833333333333333\n",
      "5.666666666666667\n",
      "5.0\n"
     ]
    }
   ],
   "source": [
    "for k,v in driving_license.items():\n",
    "    print(check_ave(v))"
   ]
  },
  {
   "cell_type": "code",
   "execution_count": null,
   "id": "ethical-cooperative",
   "metadata": {},
   "outputs": [],
   "source": []
  }
 ],
 "metadata": {
  "kernelspec": {
   "display_name": "Python 3",
   "language": "python",
   "name": "python3"
  },
  "language_info": {
   "codemirror_mode": {
    "name": "ipython",
    "version": 3
   },
   "file_extension": ".py",
   "mimetype": "text/x-python",
   "name": "python",
   "nbconvert_exporter": "python",
   "pygments_lexer": "ipython3",
   "version": "3.9.1"
  }
 },
 "nbformat": 4,
 "nbformat_minor": 5
}
