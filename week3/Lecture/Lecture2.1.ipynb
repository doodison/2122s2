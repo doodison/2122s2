{
 "cells": [
  {
   "cell_type": "markdown",
   "id": "applicable-implement",
   "metadata": {},
   "source": [
    "# Methods & functions, data structures\n",
    "\n",
    "Welcome to the third week of the course. By the end of this week, you should acquire:\n",
    "\n",
    "**Knowledge on:**\n",
    "* Data types and data structures\n",
    "* Methods and functions\n",
    "\n",
    "**Skills on:**\n",
    "* Writing your own functions\n",
    "* Choose appropriate data structure\n",
    "* Handling errors"
   ]
  },
  {
   "cell_type": "markdown",
   "id": "regulated-sociology",
   "metadata": {},
   "source": [
    "## Methods \n",
    "\n",
    "A method is a \"function\" that “belongs to” an object. "
   ]
  },
  {
   "cell_type": "code",
   "execution_count": null,
   "id": "detailed-granny",
   "metadata": {},
   "outputs": [],
   "source": [
    "#Examples of methods for objects \n",
    "mystr = \"This is an example of a string. Very short example. \""
   ]
  },
  {
   "cell_type": "code",
   "execution_count": null,
   "id": "arctic-spelling",
   "metadata": {},
   "outputs": [],
   "source": []
  },
  {
   "cell_type": "code",
   "execution_count": null,
   "id": "recorded-shape",
   "metadata": {},
   "outputs": [],
   "source": [
    "#Examples of methods for lists and dicts\n"
   ]
  },
  {
   "cell_type": "markdown",
   "id": "incorporate-paintball",
   "metadata": {},
   "source": [
    "## Functions\n",
    "\n",
    "Functions are a way to repeat a certain activity multiple times in Python. They help you write a certain action once, and reuse it many times. As you can imagine, this is really powerful for data preparation. Let's see some examples."
   ]
  },
  {
   "cell_type": "markdown",
   "id": "alternate-schedule",
   "metadata": {},
   "source": [
    "### Built-in functions\n",
    "\n",
    "In pyhton, there are numerous functions that come with it or with different packages you install. "
   ]
  },
  {
   "cell_type": "code",
   "execution_count": null,
   "id": "above-corruption",
   "metadata": {},
   "outputs": [],
   "source": [
    "#Examples of functions for objects\n"
   ]
  },
  {
   "cell_type": "code",
   "execution_count": null,
   "id": "national-parallel",
   "metadata": {},
   "outputs": [],
   "source": []
  },
  {
   "cell_type": "code",
   "execution_count": null,
   "id": "arctic-quantum",
   "metadata": {},
   "outputs": [],
   "source": [
    "#Examples of functions for lists\n",
    "numbers = [34,56,34,76,33,44]"
   ]
  },
  {
   "cell_type": "code",
   "execution_count": null,
   "id": "tender-legislature",
   "metadata": {},
   "outputs": [],
   "source": []
  },
  {
   "cell_type": "markdown",
   "id": "unique-accuracy",
   "metadata": {},
   "source": [
    "### Write your own functions\n",
    "\n",
    "When you want to do a certain action that does not come with the built-in functions and you want to be able to execute this action many times, you can write your own function."
   ]
  },
  {
   "cell_type": "code",
   "execution_count": null,
   "id": "worthy-instrument",
   "metadata": {},
   "outputs": [],
   "source": [
    "#Function to add 1\n",
    "def addone:"
   ]
  },
  {
   "cell_type": "code",
   "execution_count": null,
   "id": "extended-friendly",
   "metadata": {},
   "outputs": [],
   "source": []
  },
  {
   "cell_type": "code",
   "execution_count": null,
   "id": "federal-venue",
   "metadata": {},
   "outputs": [],
   "source": [
    "# Looping over list and applying function \n",
    "numbers = [3,6,3,6,8,2]"
   ]
  },
  {
   "cell_type": "code",
   "execution_count": null,
   "id": "defensive-analysis",
   "metadata": {},
   "outputs": [],
   "source": []
  },
  {
   "cell_type": "markdown",
   "id": "sonic-horse",
   "metadata": {},
   "source": [
    "This may be going too fast. Let's look at the elements above that constitute a function.\n",
    "\n",
    "In the **first line**:\n",
    "* ```def``` indicates to Python that you are creating (defining) a function\n",
    "* ```add_one``` is the name of the function. You can give it any name you want, as long as (a) it does not start with a number or restricted character, (b) it does not have a space, and (c) it does not overlap with one of Python's basic commands.\n",
    "* ```(number)``` specifies the arguments that will be passed along to the function (i.e., that the function will use). It is up to you what name you give to the argument. A function can also be written without arguments - i.e., just ```()``` - but in this course we mostly will use arguments.\n",
    "* ```:``` don't forget this - as it indicates that the function has been defined, and what comes underneath is the function itself\n",
    "\n",
    "**After the first line**, notice the indent, i.e., that anything that happens inside the function is indented (with spaces) within the function. That way, Python knows until which line of the code belongs to the function.\n",
    "\n",
    "In this area, the function is being defined. The arguments - in our case, ```number``` - can then be used by the function in whatever operations we want to run. In this case, we are saying to add 1 to number or, in code, ```number = number + 1```.\n",
    "\n",
    "**In the last line of the function**, we have ```return```, which specifies what the function should return.\n",
    "\n",
    "\n",
    "\n",
    "\n",
    "\n",
    "\n"
   ]
  },
  {
   "cell_type": "code",
   "execution_count": null,
   "id": "entertaining-vinyl",
   "metadata": {},
   "outputs": [],
   "source": [
    "#Function with two arguments - to add and miltiply\n",
    "def addone_multiply():\n"
   ]
  },
  {
   "cell_type": "code",
   "execution_count": null,
   "id": "organized-vatican",
   "metadata": {},
   "outputs": [],
   "source": []
  },
  {
   "cell_type": "code",
   "execution_count": null,
   "id": "fatty-apple",
   "metadata": {},
   "outputs": [],
   "source": [
    "# Looping over list and applying function \n",
    "numbers = [3,6,3,6,8,2]\n"
   ]
  },
  {
   "cell_type": "code",
   "execution_count": null,
   "id": "perceived-march",
   "metadata": {},
   "outputs": [],
   "source": []
  },
  {
   "cell_type": "code",
   "execution_count": null,
   "id": "ongoing-mason",
   "metadata": {},
   "outputs": [],
   "source": []
  },
  {
   "cell_type": "code",
   "execution_count": null,
   "id": "coastal-preparation",
   "metadata": {},
   "outputs": [],
   "source": [
    "#Looping and saving to a new list\n"
   ]
  },
  {
   "cell_type": "code",
   "execution_count": null,
   "id": "mediterranean-server",
   "metadata": {},
   "outputs": [],
   "source": []
  },
  {
   "cell_type": "code",
   "execution_count": null,
   "id": "identical-associate",
   "metadata": {},
   "outputs": [],
   "source": [
    "#Looping over dict and applying function"
   ]
  },
  {
   "cell_type": "code",
   "execution_count": null,
   "id": "african-michigan",
   "metadata": {},
   "outputs": [],
   "source": [
    "#What is the average grade of each student\n",
    "semester_grades = {\"Katy\": [6,8,6.5], \"Jim\":[8,7,7.5], \"Jamy\":[5.5,6,6], \"Julia\":[5.5,6,5.5], \"Amy\":6}"
   ]
  },
  {
   "cell_type": "code",
   "execution_count": null,
   "id": "diverse-nickel",
   "metadata": {},
   "outputs": [],
   "source": []
  }
 ],
 "metadata": {
  "kernelspec": {
   "display_name": "Python 3",
   "language": "python",
   "name": "python3"
  },
  "language_info": {
   "codemirror_mode": {
    "name": "ipython",
    "version": 3
   },
   "file_extension": ".py",
   "mimetype": "text/x-python",
   "name": "python",
   "nbconvert_exporter": "python",
   "pygments_lexer": "ipython3",
   "version": "3.9.1"
  }
 },
 "nbformat": 4,
 "nbformat_minor": 5
}
