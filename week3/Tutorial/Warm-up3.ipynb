{
 "cells": [
  {
   "cell_type": "markdown",
   "id": "yellow-haven",
   "metadata": {},
   "source": [
    "# Warm-up excercises week 3"
   ]
  },
  {
   "cell_type": "markdown",
   "id": "cardiovascular-subscriber",
   "metadata": {},
   "source": [
    "Now that we've seen how Python and Jupyter Notebooks work and that you have read about Computational Communication Science, it's time for you to combine apply this knowledge. To prepare for the tutorial, we ask you to complete two warm-up excercises.\n",
    "\n",
    "\n",
    "Some important notes for the excercises:\n",
    "\n",
    "* These excercises are a warming up meant to help you get ready for class. Make sure to give them a try on all of them. If you get an error message, try to troubleshoot it (using Google often helps). If all else fails, go to the next excercise (but make sure to hand it in).\n",
    "* While we of course like when you get all the answers right, the important thing is to exercise and apply the knowledge. So we will still accept solutions that may not be complete, as long as we see enough effort for each excercise. \n",
    "* Delivering the warm-up excercises on time is critical, as it helps also prepare for the tutorial session. *info on handing-in*\n",
    "* As these excercises are meant to help you participate in the tutorial and us to make sure you can get as much as possible from the tutorials, we do not expect perfect answers. However, this is important to show the effort you have put in the excercises and what obstacles you faced."
   ]
  },
  {
   "cell_type": "markdown",
   "id": "favorite-empire",
   "metadata": {},
   "source": [
    "# Excercise 1\n",
    "\n",
    "List of grades for a class\n",
    "* Use built-in functions of Pyhton to caclucate average grade *Tip: use the built-in functions we used in the lecture*\n",
    "* Write a function that checks if a student passed (got at least 5.5). Make sure that the grades are in the right format in the function.\n",
    "* *Extra: The second list contains grades from the second exam the students have taken. Here however some students were absent and hence do not have a grade. Improve your function so that it takes it into account.*"
   ]
  },
  {
   "cell_type": "code",
   "execution_count": 48,
   "id": "biblical-american",
   "metadata": {},
   "outputs": [],
   "source": [
    "grades_exam1 = [4.5,6,7,8,8,7.5,6.5,6,9,7,8,7.5,6.5,5.5,6,4.5,3,8,7.5,7,3.5,9,7,6.5]"
   ]
  },
  {
   "cell_type": "code",
   "execution_count": 64,
   "id": "numerical-image",
   "metadata": {},
   "outputs": [],
   "source": [
    "def passing(grade):\n",
    "    if grade >= 5.5:\n",
    "        return \"passed\"\n",
    "    else:\n",
    "        return \"failed\""
   ]
  },
  {
   "cell_type": "code",
   "execution_count": 65,
   "id": "manual-thailand",
   "metadata": {},
   "outputs": [
    {
     "name": "stdout",
     "output_type": "stream",
     "text": [
      "This student failed\n",
      "This student passed\n",
      "This student passed\n",
      "This student passed\n",
      "This student passed\n",
      "This student passed\n",
      "This student passed\n",
      "This student passed\n",
      "This student passed\n",
      "This student passed\n",
      "This student passed\n",
      "This student passed\n",
      "This student passed\n",
      "This student passed\n",
      "This student passed\n",
      "This student failed\n",
      "This student failed\n",
      "This student passed\n",
      "This student passed\n",
      "This student passed\n",
      "This student failed\n",
      "This student passed\n",
      "This student passed\n",
      "This student passed\n"
     ]
    }
   ],
   "source": [
    "for grade in grades:\n",
    "    print(\"This student\",passing(grade))"
   ]
  },
  {
   "cell_type": "code",
   "execution_count": 59,
   "id": "special-shift",
   "metadata": {},
   "outputs": [],
   "source": [
    "grades_exam1 = [3.5,6,\"Absent\",8,9,7.5,4.5,6,9,7,7.5,7,\"Absent\",5.5,6.5,6,3,8,7.5,7,5.5,8,7,8]"
   ]
  },
  {
   "cell_type": "code",
   "execution_count": 62,
   "id": "dependent-precipitation",
   "metadata": {},
   "outputs": [],
   "source": [
    "def passing(grade):\n",
    "    if type(grade) == str:\n",
    "        return(\"was absent\")\n",
    "    elif grade >= 5.5:\n",
    "        return \"Passed\"\n",
    "    else:\n",
    "        return \"failed\""
   ]
  },
  {
   "cell_type": "code",
   "execution_count": 63,
   "id": "surrounded-ready",
   "metadata": {},
   "outputs": [
    {
     "name": "stdout",
     "output_type": "stream",
     "text": [
      "This student failed\n",
      "This student Passed\n",
      "This student was absent\n",
      "This student Passed\n",
      "This student Passed\n",
      "This student Passed\n",
      "This student failed\n",
      "This student Passed\n",
      "This student Passed\n",
      "This student Passed\n",
      "This student Passed\n",
      "This student Passed\n",
      "This student was absent\n",
      "This student Passed\n",
      "This student Passed\n",
      "This student Passed\n",
      "This student failed\n",
      "This student Passed\n",
      "This student Passed\n",
      "This student Passed\n",
      "This student Passed\n",
      "This student Passed\n",
      "This student Passed\n",
      "This student Passed\n"
     ]
    }
   ],
   "source": [
    "for grade in grades_exam1:\n",
    "    print(\"This student\",passing(grade))"
   ]
  },
  {
   "cell_type": "markdown",
   "id": "hybrid-marketing",
   "metadata": {},
   "source": [
    "# Excercise 2\n",
    "\n"
   ]
  },
  {
   "cell_type": "code",
   "execution_count": null,
   "id": "periodic-principal",
   "metadata": {},
   "outputs": [],
   "source": [
    "Debugging"
   ]
  }
 ],
 "metadata": {
  "kernelspec": {
   "display_name": "Python 3",
   "language": "python",
   "name": "python3"
  },
  "language_info": {
   "codemirror_mode": {
    "name": "ipython",
    "version": 3
   },
   "file_extension": ".py",
   "mimetype": "text/x-python",
   "name": "python",
   "nbconvert_exporter": "python",
   "pygments_lexer": "ipython3",
   "version": "3.9.1"
  }
 },
 "nbformat": 4,
 "nbformat_minor": 5
}
